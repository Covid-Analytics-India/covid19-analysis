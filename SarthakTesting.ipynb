{
  "nbformat": 4,
  "nbformat_minor": 0,
  "metadata": {
    "colab": {
      "name": "SarthakTesting.ipynb",
      "provenance": [],
      "collapsed_sections": [
        "Y9T0FBznMRys",
        "UjIxv_zfBbWQ",
        "feReAoROspU4",
        "ZKrhVmkhB4Mv",
        "tbyXWq8C1U7H",
        "xLXGxZ5NFDh9",
        "DtMiS6S_oiMN",
        "GZCxwNNB7yfu",
        "5j_imwhxXkuK",
        "h7NMguvkl7uU",
        "GeobCguN0NMK",
        "gvRz9-33UVbE",
        "2y-xyDLeevgw",
        "pBkokX0TA2EJ"
      ],
      "include_colab_link": true
    },
    "kernelspec": {
      "name": "python3",
      "display_name": "Python 3"
    }
  },
  "cells": [
    {
      "cell_type": "markdown",
      "metadata": {
        "id": "view-in-github",
        "colab_type": "text"
      },
      "source": [
        "<a href=\"https://colab.research.google.com/github/Cryptonex7/covid19-analysis/blob/collab-files/SarthakTesting.ipynb\" target=\"_parent\"><img src=\"https://colab.research.google.com/assets/colab-badge.svg\" alt=\"Open In Colab\"/></a>"
      ]
    },
    {
      "cell_type": "markdown",
      "metadata": {
        "id": "UajGH2aZ9W2L",
        "colab_type": "text"
      },
      "source": [
        "# Importing  Libraries"
      ]
    },
    {
      "cell_type": "code",
      "metadata": {
        "id": "XISGwCd1Vdht",
        "colab_type": "code",
        "colab": {}
      },
      "source": [
        "# Imports\n",
        "import numpy as np\n",
        "import pandas as pd\n",
        "\n",
        "import plotly.graph_objects as go\n",
        "import plotly.express as px\n",
        "import plotly.io as pio\n",
        "pio.templates.default = \"plotly_dark\"\n",
        "from plotly.subplots import make_subplots\n",
        "\n",
        "# Supress Warnings\n",
        "import warnings\n",
        "warnings.simplefilter('ignore')"
      ],
      "execution_count": 0,
      "outputs": []
    },
    {
      "cell_type": "code",
      "metadata": {
        "id": "dZwGktTZUaoi",
        "colab_type": "code",
        "colab": {}
      },
      "source": [
        "# Function for fetching url\n",
        "import requests\n",
        "\n",
        "def get(url):\n",
        "  try:\n",
        "    response = requests.get(url)\n",
        "    print(f\"Request returned {response.status_code} : '{response.reason}'\")\n",
        "    return response.json()\n",
        "  except requests.HTTPError:\n",
        "    print(response.status_code, response.reason)\n",
        "    raise"
      ],
      "execution_count": 0,
      "outputs": []
    },
    {
      "cell_type": "markdown",
      "metadata": {
        "id": "uLiloNTKLx_t",
        "colab_type": "text"
      },
      "source": [
        "## Fetching Data"
      ]
    },
    {
      "cell_type": "code",
      "metadata": {
        "id": "hTTjoEPyoMfB",
        "colab_type": "code",
        "outputId": "8b8d7df1-1f87-487b-f93a-58d03c143bc8",
        "colab": {
          "base_uri": "https://localhost:8080/",
          "height": 35
        }
      },
      "source": [
        "# Fetching and Parsing the data\n",
        "raw_data = get('https://api.covid19india.org/raw_data.json')\n",
        "raw_data = raw_data['raw_data']"
      ],
      "execution_count": 4,
      "outputs": [
        {
          "output_type": "stream",
          "text": [
            "Request returned 200 : 'OK'\n"
          ],
          "name": "stdout"
        }
      ]
    },
    {
      "cell_type": "markdown",
      "metadata": {
        "id": "Gd-Fh3hQzCX3",
        "colab_type": "text"
      },
      "source": [
        "# Data Extraction"
      ]
    },
    {
      "cell_type": "markdown",
      "metadata": {
        "id": "Y9T0FBznMRys",
        "colab_type": "text"
      },
      "source": [
        "### Web Scraping"
      ]
    },
    {
      "cell_type": "code",
      "metadata": {
        "id": "crsqdarenLCn",
        "colab_type": "code",
        "colab": {}
      },
      "source": [
        "# Function for fetching url\n",
        "import requests\n",
        "\n",
        "def get(url):\n",
        "  try:\n",
        "    response = requests.get(url)\n",
        "    print(f\"Request returned {response.status_code} : '{response.reason}'\")\n",
        "    return response.json()\n",
        "  except requests.HTTPError:\n",
        "    print(response.status_code, response.reason)\n",
        "    raise"
      ],
      "execution_count": 0,
      "outputs": []
    },
    {
      "cell_type": "code",
      "metadata": {
        "id": "BiJvXSh1nTCc",
        "colab_type": "code",
        "colab": {}
      },
      "source": [
        "# Fetching data from 2nd source\n",
        "from datetime import datetime\n",
        "import requests\n",
        "import os\n",
        "import glob\n",
        "from bs4 import BeautifulSoup\n",
        "import pandas as pd\n",
        "import numpy as np"
      ],
      "execution_count": 0,
      "outputs": []
    },
    {
      "cell_type": "code",
      "metadata": {
        "id": "r554CajQne1o",
        "colab_type": "code",
        "colab": {}
      },
      "source": [
        "link = 'https://docs.google.com/spreadsheets/d/e/2PACX-1vSz8Qs1gE_IYpzlkFkCXGcL_BqR8hZieWVi-rphN1gfrO3H4lDtVZs4kd0C3P8Y9lhsT1rhoB-Q_cP4/pubhtml#'\n",
        "req = requests.get(link)\n",
        "soup = BeautifulSoup(req.content, \"html.parser\")"
      ],
      "execution_count": 0,
      "outputs": []
    },
    {
      "cell_type": "code",
      "metadata": {
        "id": "_oy2FefSoW3r",
        "colab_type": "code",
        "colab": {}
      },
      "source": [
        "def getDataFromSheet(id, index):\n",
        "  table = soup.find(id=id).div.table\n",
        "  tbody = table.tbody\n",
        "  body = tbody.find_all('tr')\n",
        "\n",
        "  body_rows = []\n",
        "    \n",
        "  for tr in body:\n",
        "      td = tr.find_all(['th', 'td'])\n",
        "      row = [i.text for i in td]\n",
        "      body_rows.append(row)\n",
        "    \n",
        "  data = pd.DataFrame(body_rows[index:len(body_rows)], columns=body_rows[0])\n",
        "\n",
        "  data.drop(data.columns[0], axis='columns', inplace=True)\n",
        "  return data"
      ],
      "execution_count": 0,
      "outputs": []
    },
    {
      "cell_type": "markdown",
      "metadata": {
        "id": "LBA9zgP7JHk5",
        "colab_type": "text"
      },
      "source": [
        "#### Statewise data"
      ]
    },
    {
      "cell_type": "code",
      "metadata": {
        "id": "uXzta9z2oZRZ",
        "colab_type": "code",
        "colab": {}
      },
      "source": [
        "# And there we have it! the data, the Statewise data\n",
        "\n",
        "statewise_data = getDataFromSheet(id='1896310216', index=1)\n",
        "statewise_data.drop(statewise_data.index[1], axis='index', inplace=True)"
      ],
      "execution_count": 0,
      "outputs": []
    },
    {
      "cell_type": "code",
      "metadata": {
        "id": "DgOHXx8tPrEN",
        "colab_type": "code",
        "outputId": "ac6aa012-b497-4c0e-d6bd-51bba6aa756c",
        "colab": {
          "base_uri": "https://localhost:8080/",
          "height": 126
        }
      },
      "source": [
        "# Import gdrive\n",
        "from google.colab import drive\n",
        "drive.mount('/content/gdrive')"
      ],
      "execution_count": 10,
      "outputs": [
        {
          "output_type": "stream",
          "text": [
            "Go to this URL in a browser: https://accounts.google.com/o/oauth2/auth?client_id=947318989803-6bn6qk8qdgf4n4g3pfee6491hc0brc4i.apps.googleusercontent.com&redirect_uri=urn%3aietf%3awg%3aoauth%3a2.0%3aoob&response_type=code&scope=email%20https%3a%2f%2fwww.googleapis.com%2fauth%2fdocs.test%20https%3a%2f%2fwww.googleapis.com%2fauth%2fdrive%20https%3a%2f%2fwww.googleapis.com%2fauth%2fdrive.photos.readonly%20https%3a%2f%2fwww.googleapis.com%2fauth%2fpeopleapi.readonly\n",
            "\n",
            "Enter your authorization code:\n",
            "··········\n",
            "Mounted at /content/gdrive\n"
          ],
          "name": "stdout"
        }
      ]
    },
    {
      "cell_type": "code",
      "metadata": {
        "id": "5YhQ1dB8_Kx0",
        "colab_type": "code",
        "outputId": "c8c3fe91-1a19-495f-dffe-82e411d00aac",
        "colab": {
          "base_uri": "https://localhost:8080/",
          "height": 88
        }
      },
      "source": [
        "statewise_data.columns"
      ],
      "execution_count": 11,
      "outputs": [
        {
          "output_type": "execute_result",
          "data": {
            "text/plain": [
              "Index(['State', '', 'Confirmed', 'Recovered', 'Deaths', 'Active',\n",
              "       'Last_Updated_Time', 'State_code', 'Delta_Confirmed', 'Delta_Recovered',\n",
              "       'Delta_Deaths', 'State_Notes'],\n",
              "      dtype='object')"
            ]
          },
          "metadata": {
            "tags": []
          },
          "execution_count": 11
        }
      ]
    },
    {
      "cell_type": "markdown",
      "metadata": {
        "id": "UjIxv_zfBbWQ",
        "colab_type": "text"
      },
      "source": [
        "### Normalize the fetched JSON"
      ]
    },
    {
      "cell_type": "code",
      "metadata": {
        "id": "eOe-f2X_BZpo",
        "colab_type": "code",
        "outputId": "cb77c93d-2980-4762-b3cd-964f5c04a09e",
        "colab": {
          "base_uri": "https://localhost:8080/",
          "height": 35
        }
      },
      "source": [
        "#add\n",
        "from datetime import datetime\n",
        "\n",
        "file_loc = datetime.today().strftime('%Y-%m-%d')\n",
        "\n",
        "# Import gdrive\n",
        "from google.colab import drive\n",
        "drive.mount('/drive')\n",
        "\n",
        "# JSON to dataframe\n",
        "from pandas.io.json import json_normalize\n",
        "data = json_normalize(raw_data)"
      ],
      "execution_count": 12,
      "outputs": [
        {
          "output_type": "stream",
          "text": [
            "Mounted at /drive\n"
          ],
          "name": "stdout"
        }
      ]
    },
    {
      "cell_type": "markdown",
      "metadata": {
        "id": "SAHYCTG6JOFO",
        "colab_type": "text"
      },
      "source": [
        "#### Government Data"
      ]
    },
    {
      "cell_type": "code",
      "metadata": {
        "id": "EIb6c25Zoz6C",
        "colab_type": "code",
        "colab": {}
      },
      "source": [
        "gov_data = pd.read_csv('/drive/My Drive/complete.csv')"
      ],
      "execution_count": 0,
      "outputs": []
    },
    {
      "cell_type": "markdown",
      "metadata": {
        "id": "feReAoROspU4",
        "colab_type": "text"
      },
      "source": [
        "# Date Wrangling"
      ]
    },
    {
      "cell_type": "code",
      "metadata": {
        "id": "dAD5mkA-_VWX",
        "colab_type": "code",
        "colab": {}
      },
      "source": [
        "statewise_data.drop('',axis=1,inplace=True)"
      ],
      "execution_count": 0,
      "outputs": []
    },
    {
      "cell_type": "code",
      "metadata": {
        "id": "XisTh5V5ouXU",
        "colab_type": "code",
        "colab": {}
      },
      "source": [
        "data = data.rename(columns={\"patientnumber\": \"ID\",\n",
        "                     \"statepatientnumber\": \"Government id\",\n",
        "                     \"dateannounced\": \"Diagnosed date\",\n",
        "                     \"agebracket\": \"Age\",\n",
        "                     \"gender\": \"Gender\",\n",
        "                     \"detectedcity\": \"Detected city\",\n",
        "                     \"detecteddistrict\": \"Detected district\",\n",
        "                     \"detectedstate\": \"Detected state\",\n",
        "                     \"nationality\": \"Nationality\",\n",
        "                     \"currentstatus\": \"Current status\",\n",
        "                     \"statuschangedate\": \"Status change date\",\n",
        "                     \"_d180g\": \"Notes\",\n",
        "                     \"backupnotes\": \"Backup notes\",\n",
        "                     \"contractedfromwhichpatientsuspected\": \"Contracted from which Patient (Suspected)\",\n",
        "                     \"estimatedonsetdate\": \"Estimated on set date\",\n",
        "                     \"source1\": \"Source 1\",\n",
        "                     \"source2\": \"Source 2\",\n",
        "                     \"source3\": \"Source 3\"}\n",
        "                   )"
      ],
      "execution_count": 0,
      "outputs": []
    },
    {
      "cell_type": "code",
      "metadata": {
        "id": "odWp4eZ0wv6F",
        "colab_type": "code",
        "colab": {}
      },
      "source": [
        "# changing nationality Indian to India\n",
        "for ind in data.index:\n",
        "  if(data['Nationality'][ind] == \"Indian\"):\n",
        "    data['Nationality'][ind] = \"India\""
      ],
      "execution_count": 0,
      "outputs": []
    },
    {
      "cell_type": "code",
      "metadata": {
        "id": "PgXLsuxWVpVI",
        "colab_type": "code",
        "colab": {}
      },
      "source": [
        "#converting the string values to datetime object\n",
        "data['Diagnosed date'] = pd.to_datetime(data['Diagnosed date'],dayfirst=True)\n",
        "data['Status change date'] = pd.to_datetime(data['Status change date'],dayfirst=True)"
      ],
      "execution_count": 0,
      "outputs": []
    },
    {
      "cell_type": "code",
      "metadata": {
        "id": "LOHrqjyFFziD",
        "colab_type": "code",
        "colab": {}
      },
      "source": [
        "#replacing all the missing values with unknown\n",
        "data.replace(to_replace =\"\", \n",
        "                 value =\"unknown\", inplace=True)\n",
        "#creating new columns depicting the current status of patient\n",
        "data['recovered'] = 0\n",
        "data['active'] = 0\n",
        "data['death'] = 0\n",
        "data['unknown'] = 0\n",
        "data['confirmed'] = 1"
      ],
      "execution_count": 0,
      "outputs": []
    },
    {
      "cell_type": "code",
      "metadata": {
        "id": "yMvgZN5pE8r1",
        "colab_type": "code",
        "colab": {}
      },
      "source": [
        "for status in data.index:  \n",
        "  if(data['Current status'][status] == \"Hospitalized\"):\n",
        "    data['active'][status] = 1\n",
        "  elif(data['Current status'][status] == \"Recovered\"):\n",
        "    data['recovered'][status] = 1\n",
        "  elif(data['Current status'][status] == \"Deceased\"):\n",
        "    data['death'][status] = 1\n",
        "  else:\n",
        "    data['unknown'][status] = 1   "
      ],
      "execution_count": 0,
      "outputs": []
    },
    {
      "cell_type": "code",
      "metadata": {
        "id": "dlgqC94hQ4Q8",
        "colab_type": "code",
        "colab": {}
      },
      "source": [
        "statewise_data['Confirmed'] = statewise_data['Confirmed'].astype(float)\n",
        "statewise_data['Recovered'] = statewise_data['Recovered'].astype(float)\n",
        "statewise_data['Deaths'] = statewise_data['Deaths'].astype(float)\n",
        "statewise_data['Active'] = statewise_data['Active'].astype(float)\n",
        "statewise_data['Delta_Recovered'] = statewise_data['Delta_Confirmed'].astype(float)\n",
        "statewise_data['Delta_Deaths'] = statewise_data['Delta_Deaths'].astype(float)"
      ],
      "execution_count": 0,
      "outputs": []
    },
    {
      "cell_type": "code",
      "metadata": {
        "id": "MiNVzovxyTtj",
        "colab_type": "code",
        "colab": {
          "base_uri": "https://localhost:8080/",
          "height": 352
        },
        "outputId": "75ae1b64-7240-4847-e40c-89224ed93c2f"
      },
      "source": [
        "# Function to insert row in the dataframe \n",
        "def Insert_row_(row_number, df, row_value): \n",
        "    # Slice the upper half of the dataframe \n",
        "    df1 = df[0:row_number] \n",
        "   \n",
        "    # Store the result of lower half of the dataframe \n",
        "    df2 = df[row_number:] \n",
        "   \n",
        "    # Inser the row in the upper half dataframe \n",
        "    df1.loc[row_number]=row_value \n",
        "   \n",
        "    # Concat the two dataframes \n",
        "    df_result = pd.concat([df1, df2]) \n",
        "   \n",
        "    # Reassign the index labels \n",
        "    df_result.index = [*range(df_result.shape[0])] \n",
        "   \n",
        "    # Return the updated dataframe \n",
        "    return df_result \n",
        "   \n",
        "# Let's create a row which we want to insert \n",
        "row_number = 930\n",
        "row_value = ['2020-04-13', 'Meghalaya', 0, 0,\t0, 25.4670, 91.3662, 0,\t1]\n",
        "\n",
        "gov_data = Insert_row_(row_number, gov_data, row_value)"
      ],
      "execution_count": 21,
      "outputs": [
        {
          "output_type": "error",
          "ename": "ValueError",
          "evalue": "ignored",
          "traceback": [
            "\u001b[0;31m---------------------------------------------------------------------------\u001b[0m",
            "\u001b[0;31mValueError\u001b[0m                                Traceback (most recent call last)",
            "\u001b[0;32m<ipython-input-21-4872509fc590>\u001b[0m in \u001b[0;36m<module>\u001b[0;34m()\u001b[0m\n\u001b[1;32m     22\u001b[0m \u001b[0mrow_value\u001b[0m \u001b[0;34m=\u001b[0m \u001b[0;34m[\u001b[0m\u001b[0;34m'2020-04-13'\u001b[0m\u001b[0;34m,\u001b[0m \u001b[0;34m'Meghalaya'\u001b[0m\u001b[0;34m,\u001b[0m \u001b[0;36m0\u001b[0m\u001b[0;34m,\u001b[0m \u001b[0;36m0\u001b[0m\u001b[0;34m,\u001b[0m   \u001b[0;36m0\u001b[0m\u001b[0;34m,\u001b[0m \u001b[0;36m25.4670\u001b[0m\u001b[0;34m,\u001b[0m \u001b[0;36m91.3662\u001b[0m\u001b[0;34m,\u001b[0m \u001b[0;36m0\u001b[0m\u001b[0;34m,\u001b[0m \u001b[0;36m1\u001b[0m\u001b[0;34m]\u001b[0m\u001b[0;34m\u001b[0m\u001b[0;34m\u001b[0m\u001b[0m\n\u001b[1;32m     23\u001b[0m \u001b[0;34m\u001b[0m\u001b[0m\n\u001b[0;32m---> 24\u001b[0;31m \u001b[0mgov_data\u001b[0m \u001b[0;34m=\u001b[0m \u001b[0mInsert_row_\u001b[0m\u001b[0;34m(\u001b[0m\u001b[0mrow_number\u001b[0m\u001b[0;34m,\u001b[0m \u001b[0mgov_data\u001b[0m\u001b[0;34m,\u001b[0m \u001b[0mrow_value\u001b[0m\u001b[0;34m)\u001b[0m\u001b[0;34m\u001b[0m\u001b[0;34m\u001b[0m\u001b[0m\n\u001b[0m",
            "\u001b[0;32m<ipython-input-21-4872509fc590>\u001b[0m in \u001b[0;36mInsert_row_\u001b[0;34m(row_number, df, row_value)\u001b[0m\n\u001b[1;32m      7\u001b[0m \u001b[0;34m\u001b[0m\u001b[0m\n\u001b[1;32m      8\u001b[0m     \u001b[0;31m# Inser the row in the upper half dataframe\u001b[0m\u001b[0;34m\u001b[0m\u001b[0;34m\u001b[0m\u001b[0;34m\u001b[0m\u001b[0m\n\u001b[0;32m----> 9\u001b[0;31m     \u001b[0mdf1\u001b[0m\u001b[0;34m.\u001b[0m\u001b[0mloc\u001b[0m\u001b[0;34m[\u001b[0m\u001b[0mrow_number\u001b[0m\u001b[0;34m]\u001b[0m\u001b[0;34m=\u001b[0m\u001b[0mrow_value\u001b[0m\u001b[0;34m\u001b[0m\u001b[0;34m\u001b[0m\u001b[0m\n\u001b[0m\u001b[1;32m     10\u001b[0m \u001b[0;34m\u001b[0m\u001b[0m\n\u001b[1;32m     11\u001b[0m     \u001b[0;31m# Concat the two dataframes\u001b[0m\u001b[0;34m\u001b[0m\u001b[0;34m\u001b[0m\u001b[0;34m\u001b[0m\u001b[0m\n",
            "\u001b[0;32m/usr/local/lib/python3.6/dist-packages/pandas/core/indexing.py\u001b[0m in \u001b[0;36m__setitem__\u001b[0;34m(self, key, value)\u001b[0m\n\u001b[1;32m    669\u001b[0m             \u001b[0mkey\u001b[0m \u001b[0;34m=\u001b[0m \u001b[0mcom\u001b[0m\u001b[0;34m.\u001b[0m\u001b[0mapply_if_callable\u001b[0m\u001b[0;34m(\u001b[0m\u001b[0mkey\u001b[0m\u001b[0;34m,\u001b[0m \u001b[0mself\u001b[0m\u001b[0;34m.\u001b[0m\u001b[0mobj\u001b[0m\u001b[0;34m)\u001b[0m\u001b[0;34m\u001b[0m\u001b[0;34m\u001b[0m\u001b[0m\n\u001b[1;32m    670\u001b[0m         \u001b[0mindexer\u001b[0m \u001b[0;34m=\u001b[0m \u001b[0mself\u001b[0m\u001b[0;34m.\u001b[0m\u001b[0m_get_setitem_indexer\u001b[0m\u001b[0;34m(\u001b[0m\u001b[0mkey\u001b[0m\u001b[0;34m)\u001b[0m\u001b[0;34m\u001b[0m\u001b[0;34m\u001b[0m\u001b[0m\n\u001b[0;32m--> 671\u001b[0;31m         \u001b[0mself\u001b[0m\u001b[0;34m.\u001b[0m\u001b[0m_setitem_with_indexer\u001b[0m\u001b[0;34m(\u001b[0m\u001b[0mindexer\u001b[0m\u001b[0;34m,\u001b[0m \u001b[0mvalue\u001b[0m\u001b[0;34m)\u001b[0m\u001b[0;34m\u001b[0m\u001b[0;34m\u001b[0m\u001b[0m\n\u001b[0m\u001b[1;32m    672\u001b[0m \u001b[0;34m\u001b[0m\u001b[0m\n\u001b[1;32m    673\u001b[0m     \u001b[0;32mdef\u001b[0m \u001b[0m_validate_key\u001b[0m\u001b[0;34m(\u001b[0m\u001b[0mself\u001b[0m\u001b[0;34m,\u001b[0m \u001b[0mkey\u001b[0m\u001b[0;34m,\u001b[0m \u001b[0maxis\u001b[0m\u001b[0;34m:\u001b[0m \u001b[0mint\u001b[0m\u001b[0;34m)\u001b[0m\u001b[0;34m:\u001b[0m\u001b[0;34m\u001b[0m\u001b[0;34m\u001b[0m\u001b[0m\n",
            "\u001b[0;32m/usr/local/lib/python3.6/dist-packages/pandas/core/indexing.py\u001b[0m in \u001b[0;36m_setitem_with_indexer\u001b[0;34m(self, indexer, value)\u001b[0m\n\u001b[1;32m    873\u001b[0m \u001b[0;34m\u001b[0m\u001b[0m\n\u001b[1;32m    874\u001b[0m             \u001b[0;32mif\u001b[0m \u001b[0mmissing\u001b[0m\u001b[0;34m:\u001b[0m\u001b[0;34m\u001b[0m\u001b[0;34m\u001b[0m\u001b[0m\n\u001b[0;32m--> 875\u001b[0;31m                 \u001b[0;32mreturn\u001b[0m \u001b[0mself\u001b[0m\u001b[0;34m.\u001b[0m\u001b[0m_setitem_with_indexer_missing\u001b[0m\u001b[0;34m(\u001b[0m\u001b[0mindexer\u001b[0m\u001b[0;34m,\u001b[0m \u001b[0mvalue\u001b[0m\u001b[0;34m)\u001b[0m\u001b[0;34m\u001b[0m\u001b[0;34m\u001b[0m\u001b[0m\n\u001b[0m\u001b[1;32m    876\u001b[0m \u001b[0;34m\u001b[0m\u001b[0m\n\u001b[1;32m    877\u001b[0m         \u001b[0;31m# set\u001b[0m\u001b[0;34m\u001b[0m\u001b[0;34m\u001b[0m\u001b[0;34m\u001b[0m\u001b[0m\n",
            "\u001b[0;32m/usr/local/lib/python3.6/dist-packages/pandas/core/indexing.py\u001b[0m in \u001b[0;36m_setitem_with_indexer_missing\u001b[0;34m(self, indexer, value)\u001b[0m\n\u001b[1;32m   1117\u001b[0m                     \u001b[0;31m# must have conforming columns\u001b[0m\u001b[0;34m\u001b[0m\u001b[0;34m\u001b[0m\u001b[0;34m\u001b[0m\u001b[0m\n\u001b[1;32m   1118\u001b[0m                     \u001b[0;32mif\u001b[0m \u001b[0mlen\u001b[0m\u001b[0;34m(\u001b[0m\u001b[0mvalue\u001b[0m\u001b[0;34m)\u001b[0m \u001b[0;34m!=\u001b[0m \u001b[0mlen\u001b[0m\u001b[0;34m(\u001b[0m\u001b[0mself\u001b[0m\u001b[0;34m.\u001b[0m\u001b[0mobj\u001b[0m\u001b[0;34m.\u001b[0m\u001b[0mcolumns\u001b[0m\u001b[0;34m)\u001b[0m\u001b[0;34m:\u001b[0m\u001b[0;34m\u001b[0m\u001b[0;34m\u001b[0m\u001b[0m\n\u001b[0;32m-> 1119\u001b[0;31m                         \u001b[0;32mraise\u001b[0m \u001b[0mValueError\u001b[0m\u001b[0;34m(\u001b[0m\u001b[0;34m\"cannot set a row with mismatched columns\"\u001b[0m\u001b[0;34m)\u001b[0m\u001b[0;34m\u001b[0m\u001b[0;34m\u001b[0m\u001b[0m\n\u001b[0m\u001b[1;32m   1120\u001b[0m \u001b[0;34m\u001b[0m\u001b[0m\n\u001b[1;32m   1121\u001b[0m                 \u001b[0mvalue\u001b[0m \u001b[0;34m=\u001b[0m \u001b[0mSeries\u001b[0m\u001b[0;34m(\u001b[0m\u001b[0mvalue\u001b[0m\u001b[0;34m,\u001b[0m \u001b[0mindex\u001b[0m\u001b[0;34m=\u001b[0m\u001b[0mself\u001b[0m\u001b[0;34m.\u001b[0m\u001b[0mobj\u001b[0m\u001b[0;34m.\u001b[0m\u001b[0mcolumns\u001b[0m\u001b[0;34m,\u001b[0m \u001b[0mname\u001b[0m\u001b[0;34m=\u001b[0m\u001b[0mindexer\u001b[0m\u001b[0;34m)\u001b[0m\u001b[0;34m\u001b[0m\u001b[0;34m\u001b[0m\u001b[0m\n",
            "\u001b[0;31mValueError\u001b[0m: cannot set a row with mismatched columns"
          ]
        }
      ]
    },
    {
      "cell_type": "code",
      "metadata": {
        "id": "yVhlgUPXt-tt",
        "colab_type": "code",
        "colab": {}
      },
      "source": [
        "c = 0\n",
        "for row in gov_data.index:\n",
        "  if gov_data['Date'][row] == '2020-04-13':\n",
        "    c += 1\n",
        "    if c == 2:\n",
        "      gov_data['Date'][row] = \"2020-04-14\"\n",
        "      c=0"
      ],
      "execution_count": 0,
      "outputs": []
    },
    {
      "cell_type": "code",
      "metadata": {
        "id": "BZERKSUap8yC",
        "colab_type": "code",
        "colab": {}
      },
      "source": [
        "# for govt data\n",
        "gov_data['Date'] = pd.to_datetime(gov_data['Date'],dayfirst=True)"
      ],
      "execution_count": 0,
      "outputs": []
    },
    {
      "cell_type": "code",
      "metadata": {
        "id": "2fE2HIL2vud3",
        "colab_type": "code",
        "colab": {}
      },
      "source": [
        "confirmed_death_recovered = gov_data.groupby('Date')['Date', 'Total Confirmed cases','Cured/Discharged/Migrated', 'Death'].sum().reset_index()"
      ],
      "execution_count": 0,
      "outputs": []
    },
    {
      "cell_type": "code",
      "metadata": {
        "id": "OtTQ2-L87Bg1",
        "colab_type": "code",
        "colab": {}
      },
      "source": [
        "c = 0\n",
        "r = 0\n",
        "d = 0\n",
        "confirmed_death_recovered['day_conf'] = confirmed_death_recovered['Total Confirmed cases']\n",
        "confirmed_death_recovered['day_rec'] = confirmed_death_recovered['Cured/Discharged/Migrated']\n",
        "confirmed_death_recovered['day_death'] = confirmed_death_recovered['Death']\n",
        "for row in confirmed_death_recovered.index:\n",
        "  confirmed_death_recovered['day_conf'][row] -= c\n",
        "  confirmed_death_recovered['day_rec'][row] -= r\n",
        "  confirmed_death_recovered['day_death'][row] -= d\n",
        "  c = confirmed_death_recovered['day_conf'][row]\n",
        "  r = confirmed_death_recovered['day_rec'][row]\n",
        "  d = confirmed_death_recovered['day_death'][row]"
      ],
      "execution_count": 0,
      "outputs": []
    },
    {
      "cell_type": "code",
      "metadata": {
        "id": "Kkz53bxw0lvx",
        "colab_type": "code",
        "colab": {}
      },
      "source": [
        "confirmed_death_recovered['tot_active'] = confirmed_death_recovered['Total Confirmed cases'] - confirmed_death_recovered['Death'] - confirmed_death_recovered['Cured/Discharged/Migrated']"
      ],
      "execution_count": 0,
      "outputs": []
    },
    {
      "cell_type": "code",
      "metadata": {
        "id": "10emQPOd1DwZ",
        "colab_type": "code",
        "colab": {}
      },
      "source": [
        "confirmed_death_recovered[['tot_active']]"
      ],
      "execution_count": 0,
      "outputs": []
    },
    {
      "cell_type": "markdown",
      "metadata": {
        "id": "8eDs5H_vDgDY",
        "colab_type": "text"
      },
      "source": [
        "# Understanding the Data"
      ]
    },
    {
      "cell_type": "code",
      "metadata": {
        "id": "lLhYgxLwYzWx",
        "colab_type": "code",
        "colab": {}
      },
      "source": [
        "data.info()"
      ],
      "execution_count": 0,
      "outputs": []
    },
    {
      "cell_type": "code",
      "metadata": {
        "id": "iZCj1yp_sCbN",
        "colab_type": "code",
        "colab": {}
      },
      "source": [
        "data.sample(5)"
      ],
      "execution_count": 0,
      "outputs": []
    },
    {
      "cell_type": "code",
      "metadata": {
        "id": "aEprRhF0EhSw",
        "colab_type": "code",
        "colab": {}
      },
      "source": [
        "print(\"External Data\")\n",
        "print(f\"First recorded Case: {data['Diagnosed date'].min()}\")\n",
        "print(f\"Last recorded Case: {data['Diagnosed date'].max()}\")\n",
        "print(f\"Total Days recorded: {data['Diagnosed date'].max() - data['Diagnosed date'].min()}\")"
      ],
      "execution_count": 0,
      "outputs": []
    },
    {
      "cell_type": "markdown",
      "metadata": {
        "id": "ZKrhVmkhB4Mv",
        "colab_type": "text"
      },
      "source": [
        "# SAVING THE CLEANED DATA TO DRIVE"
      ]
    },
    {
      "cell_type": "code",
      "metadata": {
        "id": "3THFVrcNB6SK",
        "colab_type": "code",
        "colab": {}
      },
      "source": [
        "#add\n",
        "## RAW DATA\n",
        "\n",
        "data.to_csv('/drive/My Drive/Covid19/data.csv')\n",
        "\n",
        "## STATEWISE DATA\n",
        "\n",
        "statewise_data.to_csv('/drive/My Drive/Covid19/' + file_loc + 'statewise_data.csv')\n",
        "\n",
        "## DEATH & RECOVERED DATA\n",
        "\n",
        "death_and_recovered.to_csv('/drive/My Drive/Covid19/' + file_loc + 'death_and_recovered.csv')"
      ],
      "execution_count": 0,
      "outputs": []
    },
    {
      "cell_type": "markdown",
      "metadata": {
        "id": "aK-EhCo5tnPb",
        "colab_type": "text"
      },
      "source": [
        "# Country Analysis"
      ]
    },
    {
      "cell_type": "markdown",
      "metadata": {
        "id": "nc4p2d87rYj4",
        "colab_type": "text"
      },
      "source": [
        "## 1. Confirmed Cases Over Time\n"
      ]
    },
    {
      "cell_type": "markdown",
      "metadata": {
        "id": "gqSLDwTrt7-0",
        "colab_type": "text"
      },
      "source": [
        "### 1.1 Confirmed Cases ( Cumulative )"
      ]
    },
    {
      "cell_type": "code",
      "metadata": {
        "id": "Q1vBbRJxF2uo",
        "colab_type": "code",
        "colab": {}
      },
      "source": [
        "confirmed_grouped = data.groupby('Diagnosed date')['Diagnosed date', 'confirmed', 'recovered', 'death'].sum().reset_index()\n",
        "c=0\n",
        "r=0\n",
        "d=0\n",
        "confirmed_grouped['tot_confirmed'] = confirmed_grouped['confirmed']\n",
        "confirmed_grouped['tot_r'] = confirmed_grouped['recovered']\n",
        "confirmed_grouped['tot_d'] = confirmed_grouped['death'] \n",
        "for row in confirmed_grouped.index:\n",
        "  confirmed_grouped['tot_confirmed'][row] += c\n",
        "  c = confirmed_grouped['tot_confirmed'][row]\n",
        "  confirmed_grouped['tot_r'][row] += r\n",
        "  r = confirmed_grouped['tot_r'][row]\n",
        "  confirmed_grouped['tot_d'][row] += d\n",
        "  d = confirmed_grouped['tot_d'][row]  "
      ],
      "execution_count": 0,
      "outputs": []
    },
    {
      "cell_type": "code",
      "metadata": {
        "id": "oyuJOFLAIdv_",
        "colab_type": "code",
        "colab": {}
      },
      "source": [
        "fig = px.line(confirmed_grouped, x=\"Diagnosed date\", y=\"tot_confirmed\", title=\"Day Wise Overall Confirmed Cases in India\", width=900, height=650)\n",
        "\n",
        "fig.show()\n",
        "\n",
        "print(\"\\n\")\n",
        "\n",
        "fig = px.line(confirmed_grouped, x=\"Diagnosed date\", y=\"tot_confirmed\", title=\"Day Wise Confirmed Cases in India(Logarithmic Scale)\", log_y=True, width=900, height=650)\n",
        "\n",
        "fig.show()"
      ],
      "execution_count": 0,
      "outputs": []
    },
    {
      "cell_type": "markdown",
      "metadata": {
        "id": "zBE1jBlUGDKt",
        "colab_type": "text"
      },
      "source": [
        "### 1.2 Confirmed Cases ( Day Wise )"
      ]
    },
    {
      "cell_type": "code",
      "metadata": {
        "id": "RXYeufMwwW7l",
        "colab_type": "code",
        "colab": {}
      },
      "source": [
        "fig = px.line(confirmed_grouped, x=\"Diagnosed date\", y=\"confirmed\", title=\"Day Wise Encountered Cases in India\", width=900, height=650)\n",
        "\n",
        "fig.show()\n",
        "\n",
        "print(\"\\n\")\n",
        "\n",
        "fig = px.line(confirmed_grouped, x=\"Diagnosed date\", y=\"confirmed\", title=\"Day Wise Encountred Cases in India(Logarithmic Scale)\", log_y=True, width=900, height=650)\n",
        "\n",
        "fig.show()"
      ],
      "execution_count": 0,
      "outputs": []
    },
    {
      "cell_type": "markdown",
      "metadata": {
        "id": "Hy0MjtqBEAMd",
        "colab_type": "text"
      },
      "source": [
        "## Observation from the above graph:"
      ]
    },
    {
      "cell_type": "markdown",
      "metadata": {
        "id": "W860kXZsLAPm",
        "colab_type": "text"
      },
      "source": [
        "## 2. Total Confirmed Cases in Various States till Date"
      ]
    },
    {
      "cell_type": "code",
      "metadata": {
        "id": "i02mJaMK60cL",
        "colab_type": "code",
        "colab": {}
      },
      "source": [
        "#cases state wise\n",
        "\n",
        "fig = px.bar(gov_data[-gov_data[gov_data['Date'] == gov_data['Date'].max()].shape[0]:].sort_values('Total Confirmed cases', ascending=False)[:33][::-1], \n",
        "             x='Total Confirmed cases', y='Name of State / UT',\n",
        "             title='Confirmed Cases in Various States in India', text='Total Confirmed cases', height=800,width = 1400, orientation='h')\n",
        "fig.show()"
      ],
      "execution_count": 0,
      "outputs": []
    },
    {
      "cell_type": "code",
      "metadata": {
        "id": "mg-b6ep8MHnj",
        "colab_type": "code",
        "colab": {}
      },
      "source": [
        "fig = px.choropleth(latest_grouped, locations=\"Nationality\", \n",
        "                    locationmode='country names', color=\"confirmed\", \n",
        "                    hover_name=\"Nationality\", range_color=[1,3500], \n",
        "                    color_continuous_scale=\"peach\", scope='world',\n",
        "                    title='Countries with Confirmed Cases')\n",
        "#fig.update(layout_coloraxis_showscale=False)\n",
        "fig.show()"
      ],
      "execution_count": 0,
      "outputs": []
    },
    {
      "cell_type": "code",
      "metadata": {
        "id": "3-AXzBIw0wkP",
        "colab_type": "code",
        "colab": {}
      },
      "source": [
        "# Remove all the unknown Genders\n",
        "df_gender_cleaned = data[ (data['Gender'] == \"M\") | (data['Gender'] == \"F\")]\n",
        "print('Percentage of gender unknown = ',(data['Gender'].value_counts()[0]) / (data['Gender'].value_counts().sum())*100)\n",
        "\n",
        "# Pie Chart\n",
        "fig = px.pie(df_gender_cleaned,values='confirmed', names='Gender')\n",
        "fig.show()"
      ],
      "execution_count": 0,
      "outputs": []
    },
    {
      "cell_type": "code",
      "metadata": {
        "id": "xCuze-htnyu0",
        "colab_type": "code",
        "colab": {}
      },
      "source": [
        "# Observation\n",
        "ratio = df_gender_cleaned['Gender'].value_counts()[0] / df_gender_cleaned['Gender'].value_counts()[1]\n",
        "print(\"\\nAlthough more than 50% of the genders of people affected with covid19 is unknown but from the ones that are known we can see that almost\\n{} times the number of Males are getting affected by COVID-19 in India. \".format(0.5*round(ratio/0.5)))"
      ],
      "execution_count": 0,
      "outputs": []
    },
    {
      "cell_type": "markdown",
      "metadata": {
        "id": "gZ70CS2Y04jl",
        "colab_type": "text"
      },
      "source": [
        " - This may be indicative of a greater number of males, highlighting the already present gender disparity in India, but at the same time may be attributed to smoking, drinking, general poor health practiced by a greater number of men in the Indian subcontinent as compared to women .\n",
        "\n",
        "- Since coronavirus spreads from person to person, it is quite obvious that chances of a person getting in contact with coronavirus increases when he/she is at workplace or at some crowded place.\n",
        " - According to a website catalyst(https://www.catalyst.org/research/women-in-the-workforce-india/) the male workforce is 78.6% compared to 23.6% of female workforce in India. This can be another reason of more males getting affected with the virus.\n",
        "\n",
        "\n",
        "\n",
        "\n"
      ]
    },
    {
      "cell_type": "markdown",
      "metadata": {
        "id": "KcOgEXWE0-QB",
        "colab_type": "text"
      },
      "source": [
        "## **DISTRICT WISE ANALYSIS**"
      ]
    },
    {
      "cell_type": "code",
      "metadata": {
        "id": "D7tjoKqSKthu",
        "colab_type": "code",
        "colab": {}
      },
      "source": [
        "df_district_cleaned = data[data['Detected district']!=\"unknown\"]\n",
        "\n",
        "latest_grouped = df_district_cleaned.groupby('Detected district')['confirmed'].sum().reset_index()\n",
        "\n",
        "fig = px.bar(latest_grouped.sort_values('confirmed', ascending=False)[:20][::-1], \n",
        "             x='confirmed', y='Detected district',\n",
        "             title='20 most affected Districts in India', text='confirmed', height=850, orientation='h')\n",
        "fig.show()"
      ],
      "execution_count": 0,
      "outputs": []
    },
    {
      "cell_type": "markdown",
      "metadata": {
        "id": "Lxh4i58O1FSo",
        "colab_type": "text"
      },
      "source": [
        "Maharashtra is heavily affected\n",
        "> Mumbai being the hub for tourist arrivals and international flights, as well as the most populous city in india and 5th most populous city worldwide has been the most affected city thus far.\n",
        "\n",
        ">Pune being close to Mumbai (~150 Km) is also affected heavily thanks to inter city travel between the major neighbouring cities.\n",
        "\n",
        "\n",
        "\n"
      ]
    },
    {
      "cell_type": "markdown",
      "metadata": {
        "id": "lP_-mBFimnNB",
        "colab_type": "text"
      },
      "source": [
        "Here we form a hypothesis that there seems to be a correlation between the cities the virus is spreading in a greater number & said cities being costal areas.\n",
        "\n",
        "With this hypothesis, let us explore this idea and see if we can reach any conclusions-"
      ]
    },
    {
      "cell_type": "code",
      "metadata": {
        "id": "aEZ9NFGsnrq6",
        "colab_type": "code",
        "colab": {}
      },
      "source": [
        "# For analysis section\n",
        "# Finding number of patients in districts with humid climate\n",
        "most_affected_districts = df_district_cleaned\n",
        "\n",
        "close_to_water = most_affected_districts[most_affected_districts[\"Detected district\"].isin([\"Mumbai\", \"Kasaragod\", \"Pune\", \"Kochi\", \"Sangli\",'Chennai'])] #Ahemdabad is ~326km from the sea, vadodra ~263, \"Sangli city is situated on the bank of Krishna river\", \n",
        "\n",
        "#Segregate the remaining cities\n",
        "far_from_water = most_affected_districts[~(most_affected_districts[\"Detected district\"].isin([\"Mumbai\", \"Kasaragod\", \"Pune\", \"Kochi\", \"Sangli\"]))]\n",
        "\n",
        "#Calculate the total number of confirmed cases in the two cases\n",
        "x = close_to_water['confirmed'].sum()\n",
        "y = far_from_water['confirmed'].sum()\n",
        "\n",
        "#Lists used to feed the pie chart\n",
        "labels = ['Close to water','Far from water']\n",
        "values = [x,y]\n",
        "\n",
        "# plotting a Pie chart to see the distribution of confirmed cases in the two cases\n",
        "fig = go.Figure(data=[go.Pie(labels=labels, values = values,pull=0.05)])\n",
        "fig.show()"
      ],
      "execution_count": 0,
      "outputs": []
    },
    {
      "cell_type": "markdown",
      "metadata": {
        "id": "g3rEj3igwUih",
        "colab_type": "text"
      },
      "source": [
        "From the above data we can say that at this time no such conclusion can be derived, as most of the cases seem to come from inland cities as far as th"
      ]
    },
    {
      "cell_type": "markdown",
      "metadata": {
        "id": "tbyXWq8C1U7H",
        "colab_type": "text"
      },
      "source": [
        "# Recovered Cases\n",
        "\n",
        "\n"
      ]
    },
    {
      "cell_type": "markdown",
      "metadata": {
        "id": "XEwGbb8Ivlv8",
        "colab_type": "text"
      },
      "source": [
        "##Cumulative Recovered Cases"
      ]
    },
    {
      "cell_type": "code",
      "metadata": {
        "id": "Q2UebRgfLVnk",
        "colab_type": "code",
        "colab": {}
      },
      "source": [
        "fig = px.line(confirmed_death_recovered, x=\"Date\", y=\"Cured/Discharged/Migrated\", title=\"Recovered Cases in India(Cumulative)\", width=900, height=650)\n",
        "\n",
        "fig.show()\n",
        "\n",
        "print(\"\\n\")\n",
        "\n",
        "fig = px.line(confirmed_death_recovered, x=\"Date\", y=\"Cured/Discharged/Migrated\", title=\"Recovered Cases in India(Cumulative)(Logarithmic Scale)\", log_y=True, width=900, height=650)\n",
        "\n",
        "fig.show()"
      ],
      "execution_count": 0,
      "outputs": []
    },
    {
      "cell_type": "markdown",
      "metadata": {
        "id": "Rx60CRndvbMN",
        "colab_type": "text"
      },
      "source": [
        "## Day Wise Recovered Cases"
      ]
    },
    {
      "cell_type": "code",
      "metadata": {
        "id": "BUU59crWOpwI",
        "colab_type": "code",
        "colab": {}
      },
      "source": [
        "fig = px.line(confirmed_death_recovered, x=\"Date\", y=\"day_rec\", title=\"Recovered Cases in India(Day Wise)\", width=900, height=650,color_discrete_sequence=['#F42272'])\n",
        "\n",
        "fig.show()\n",
        "\n",
        "print(\"\\n\")\n",
        "\n",
        "fig = px.line(confirmed_death_recovered, x=\"Date\", y=\"day_rec\", title=\"Recovered Cases in India(Day Wise)(Logarithmic Scale)\", log_y=True, width=900, height=650,color_discrete_sequence=['#F42272'])\n",
        "\n",
        "fig.show()"
      ],
      "execution_count": 0,
      "outputs": []
    },
    {
      "cell_type": "markdown",
      "metadata": {
        "id": "DXIRWCkU4vRb",
        "colab_type": "text"
      },
      "source": [
        "## District Wise and State Wise Recovered Cases\n",
        "\n",
        "need new data for this(district wise data)"
      ]
    },
    {
      "cell_type": "code",
      "metadata": {
        "id": "3lVO8etG1HaP",
        "colab_type": "code",
        "colab": {}
      },
      "source": [
        "# # district Wise Recovery\n",
        "# latest_grouped = death_and_recovered[death_and_recovered['District']!=''].groupby('District')['recover'].sum().reset_index()\n",
        "\n",
        "# fig = px.bar(latest_grouped.sort_values('recover', ascending=False)[:7][::-1], \n",
        "#              x='recover', y='District',\n",
        "#              title='Recovered cases district-wise in India: ', text='recover', height=400, orientation='h')\n",
        "# fig.show()\n",
        "\n",
        "# mostRecovered = latest_grouped.loc[latest_grouped['recover'] == latest_grouped['recover'].max(), 'District'].item()\n",
        "\n",
        "# print(\"\\n{} seems to be the best place to get a treatment for the vaishvik mahamaari right now\\n\".format(mostRecovered))\n",
        "\n",
        "# # State Wise Recovery\n",
        "# fig = px.bar(statewise_data[statewise_data['State']!='Total'].sort_values('Recovered', ascending=False)[:7][::-1], \n",
        "#              x='Recovered', y='State',\n",
        "#              title='Recovered cases state-wise in India: ', text='Recovered', height=400, orientation='h')\n",
        "# fig.show()"
      ],
      "execution_count": 0,
      "outputs": []
    },
    {
      "cell_type": "markdown",
      "metadata": {
        "id": "xLXGxZ5NFDh9",
        "colab_type": "text"
      },
      "source": [
        "# Deceased Cases"
      ]
    },
    {
      "cell_type": "markdown",
      "metadata": {
        "id": "Yfli1XOn4p9h",
        "colab_type": "text"
      },
      "source": [
        "## Cumulative Deaths"
      ]
    },
    {
      "cell_type": "code",
      "metadata": {
        "id": "Vcki3mM7NW8L",
        "colab_type": "code",
        "colab": {}
      },
      "source": [
        "fig = px.line(confirmed_death_recovered, x=\"Date\", y=\"Death\", title=\"Deaths in India(Cumulative)\", width=900, height=650)\n",
        "\n",
        "fig.show()\n",
        "\n",
        "print(\"\\n\")\n",
        "\n",
        "fig = px.line(confirmed_death_recovered, x=\"Date\", y=\"Death\", title=\"Deaths in India(Cumulative)(Logarithmic Scale)\", log_y=True, width=900, height=650)\n",
        "\n",
        "fig.show()"
      ],
      "execution_count": 0,
      "outputs": []
    },
    {
      "cell_type": "markdown",
      "metadata": {
        "id": "ziL5hYt04S9Q",
        "colab_type": "text"
      },
      "source": [
        "## Deaths Day Wise"
      ]
    },
    {
      "cell_type": "code",
      "metadata": {
        "id": "QywCV5fbFuT7",
        "colab_type": "code",
        "colab": {}
      },
      "source": [
        "fig = px.line(confirmed_death_recovered, x=\"Date\", y=\"day_death\", title=\"Deaths Day Wise in India\",\n",
        "             color_discrete_sequence=['#F42272'])\n",
        "fig.show()"
      ],
      "execution_count": 0,
      "outputs": []
    },
    {
      "cell_type": "markdown",
      "metadata": {
        "id": "91ipQQD-4YXb",
        "colab_type": "text"
      },
      "source": [
        "## Deaths District Wise and State Wise"
      ]
    },
    {
      "cell_type": "code",
      "metadata": {
        "id": "ZvlmZfJ2bx95",
        "colab_type": "code",
        "colab": {}
      },
      "source": [
        "fig = px.bar(gov_data[-gov_data[gov_data['Date'] == gov_data['Date'].max()].shape[0]:].sort_values('Cured/Discharged/Migrated', ascending=False)[:33][::-1], \n",
        "             x='Cured/Discharged/Migrated', y='Name of State / UT',\n",
        "             title='Deceased Cases in Various States in India', text='Cured/Discharged/Migrated', height=800,width = 1400, orientation='h')\n",
        "fig.show()"
      ],
      "execution_count": 0,
      "outputs": []
    },
    {
      "cell_type": "code",
      "metadata": {
        "id": "ywyml6VtbX2v",
        "colab_type": "code",
        "colab": {}
      },
      "source": [
        "\n",
        "fig = px.bar(gov_data[-gov_data[gov_data['Date'] == gov_data['Date'].max()].shape[0]:].sort_values('Death', ascending=False)[:33][::-1], \n",
        "             x='Death', y='Name of State / UT',\n",
        "             title='Deceased Cases in Various States in India', text='Death', height=800,width = 1400, orientation='h')\n",
        "fig.show()"
      ],
      "execution_count": 0,
      "outputs": []
    },
    {
      "cell_type": "code",
      "metadata": {
        "id": "ZoB1l1TCFTz-",
        "colab_type": "code",
        "colab": {}
      },
      "source": [
        "# below code was based on statewise data from covid18india.org\n",
        "# # district Wise Deaths\n",
        "# latest_grouped = death_and_recovered[death_and_recovered['District']!=''].groupby('District')['dead'].sum().reset_index()\n",
        "\n",
        "# fig = px.bar(latest_grouped.sort_values('dead', ascending=False)[:7][::-1], x='dead', y='District',\n",
        "#              title = 'Deceased cases district-wise in India: ', text='dead', height=400, orientation='h')\n",
        "# fig.show()\n",
        "\n",
        "# mostdeceased = latest_grouped.loc[latest_grouped['dead'] == latest_grouped['dead'].max(), 'District'].item()\n",
        "\n",
        "# print(\"\\n{} seems to be the most affected district as of now\\n\".format(mostdeceased))\n",
        "\n",
        "# # State Wise Deaths\n",
        "# fig = px.bar(statewise_data[statewise_data['State']!='Total'].sort_values('Deaths', ascending=False)[:7][::-1], \n",
        "#              x='Deaths', y='State',\n",
        "#              title='Deceased cases state-wise in India: ', text='Deaths', height=400, orientation='h')\n",
        "# fig.show()"
      ],
      "execution_count": 0,
      "outputs": []
    },
    {
      "cell_type": "markdown",
      "metadata": {
        "id": "tOaTiP3457zG",
        "colab_type": "text"
      },
      "source": [
        "## Observations based on Above Graphs"
      ]
    },
    {
      "cell_type": "markdown",
      "metadata": {
        "id": "DtMiS6S_oiMN",
        "colab_type": "text"
      },
      "source": [
        "# Comparisons"
      ]
    },
    {
      "cell_type": "code",
      "metadata": {
        "id": "W3hJi4T2ykIU",
        "colab_type": "code",
        "colab": {}
      },
      "source": [
        "#temp = data.groupby('Diagnosed date')['recovered', 'death', 'active'].sum().reset_index()\n",
        "temp = confirmed_death_recovered.melt(id_vars=\"Date\", value_vars=['Cured/Discharged/Migrated', 'Death', 'tot_active'],\n",
        "                 var_name='case', value_name='count')\n",
        "\n",
        "fig = px.line(temp, x=\"Date\", y=\"count\", color='case',\n",
        "             title='Cases over time: Line Plot', color_discrete_sequence = ['cyan', 'red', 'orange'])\n",
        "fig.show()\n",
        "\n",
        "\n",
        "fig = px.area(temp, x=\"Date\", y=\"count\", color='case',\n",
        "             title='Cases over time: Area Plot', color_discrete_sequence = ['cyan', 'red', 'orange'])\n",
        "fig.show()"
      ],
      "execution_count": 0,
      "outputs": []
    },
    {
      "cell_type": "markdown",
      "metadata": {
        "id": "wkudWm917K7a",
        "colab_type": "text"
      },
      "source": [
        "## Observations based on above graph:"
      ]
    },
    {
      "cell_type": "markdown",
      "metadata": {
        "id": "GZCxwNNB7yfu",
        "colab_type": "text"
      },
      "source": [
        "# Mortality Rate"
      ]
    },
    {
      "cell_type": "code",
      "metadata": {
        "id": "uKGgvoWuc8VY",
        "colab_type": "code",
        "colab": {}
      },
      "source": [
        "statewise_data.columns"
      ],
      "execution_count": 0,
      "outputs": []
    },
    {
      "cell_type": "code",
      "metadata": {
        "id": "xXMi1XI6cXyC",
        "colab_type": "code",
        "colab": {}
      },
      "source": [
        "statewise_data = gov_data[-gov_data[gov_data['Date'] == gov_data['Date'].max()].shape[0]:]"
      ],
      "execution_count": 0,
      "outputs": []
    },
    {
      "cell_type": "code",
      "metadata": {
        "id": "FPntC7cycP31",
        "colab_type": "code",
        "colab": {}
      },
      "source": [
        "statewise_data['mortalityRate'] = round((statewise_data['Death']/statewise_data['Total Confirmed cases'])*100, 2)\n",
        "\n",
        "temp = statewise_data[statewise_data['Total Confirmed cases']>10]\n",
        "temp = temp.sort_values('mortalityRate', ascending=False)\n",
        "\n",
        "# print(flg)\n",
        "\n",
        "fig = px.bar(temp.sort_values(by=\"mortalityRate\", ascending=False)[:22][::-1],\n",
        "             x = 'mortalityRate', y = 'Name of State / UT', \n",
        "             title='Deaths per 10 Confirmed Cases', text='mortalityRate', height=500, orientation='h',\n",
        "             color_discrete_sequence=['darkred']\n",
        "            )\n",
        "fig.show()"
      ],
      "execution_count": 0,
      "outputs": []
    },
    {
      "cell_type": "code",
      "metadata": {
        "id": "aUD4zvtryyjg",
        "colab_type": "code",
        "colab": {}
      },
      "source": [
        "#This code was based on statewise data from covid19india.org\n",
        "# statewise_data['mortalityRate'] = round((statewise_data['Deaths']/statewise_data['Confirmed'])*100, 2)\n",
        "\n",
        "# temp = statewise_data[statewise_data['Confirmed']>10]\n",
        "# temp = temp.sort_values('mortalityRate', ascending=False)\n",
        "\n",
        "# # print(flg)\n",
        "\n",
        "# fig = px.bar(temp.sort_values(by=\"mortalityRate\", ascending=False)[:25][::-1],\n",
        "#              x = 'mortalityRate', y = 'State', \n",
        "#              title='Deaths per 10 Confirmed Cases', text='mortalityRate', height=500, orientation='h',\n",
        "#              color_discrete_sequence=['darkred']\n",
        "#             )\n",
        "# fig.show()"
      ],
      "execution_count": 0,
      "outputs": []
    },
    {
      "cell_type": "markdown",
      "metadata": {
        "id": "MbNx5d1J83XA",
        "colab_type": "text"
      },
      "source": [
        "## Observations based on above gragh"
      ]
    },
    {
      "cell_type": "markdown",
      "metadata": {
        "id": "5j_imwhxXkuK",
        "colab_type": "text"
      },
      "source": [
        "# Recovery Rate"
      ]
    },
    {
      "cell_type": "code",
      "metadata": {
        "id": "oAL84w1Yd-CU",
        "colab_type": "code",
        "colab": {}
      },
      "source": [
        "statewise_data['recoveryRate'] = round((statewise_data['Cured/Discharged/Migrated']/statewise_data['Total Confirmed cases'])*100, 2)\n",
        "#print(flg[['Detected state','recovered']])\n",
        "temp = statewise_data[statewise_data['Total Confirmed cases']>10]\n",
        "temp = temp.sort_values('recoveryRate', ascending=False)\n",
        "\n",
        "# print(flg)\n",
        "\n",
        "fig = px.bar(temp.sort_values(by=\"recoveryRate\", ascending=False)[:25][::-1],\n",
        "             x = 'recoveryRate', y = 'Name of State / UT', \n",
        "             title='Recovery per 10 Confirmed Cases', text='recoveryRate', height=600, orientation='h',\n",
        "             color_discrete_sequence=['darkred']\n",
        "            )\n",
        "fig.show()"
      ],
      "execution_count": 0,
      "outputs": []
    },
    {
      "cell_type": "code",
      "metadata": {
        "id": "5fXx05DJ75bh",
        "colab_type": "code",
        "colab": {}
      },
      "source": [
        "# This code was based on statewise data from covid19india.org\n",
        "# statewise_data['recoveryRate'] = round((statewise_data['Recovered']/statewise_data['Confirmed'])*100, 2)\n",
        "# #print(flg[['Detected state','recovered']])\n",
        "# temp = statewise_data[statewise_data['Confirmed']>10]\n",
        "# temp = temp.sort_values('recoveryRate', ascending=False)\n",
        "\n",
        "# # print(flg)\n",
        "\n",
        "# fig = px.bar(temp.sort_values(by=\"recoveryRate\", ascending=False)[:25][::-1],\n",
        "#              x = 'recoveryRate', y = 'State', \n",
        "#              title='Recovery per 10 Confirmed Cases', text='recoveryRate', height=500, orientation='h',\n",
        "#              color_discrete_sequence=['darkred']\n",
        "#             )\n",
        "# fig.show()"
      ],
      "execution_count": 0,
      "outputs": []
    },
    {
      "cell_type": "markdown",
      "metadata": {
        "id": "4iuHA39Vozqa",
        "colab_type": "text"
      },
      "source": [
        "## Observation based on above graph"
      ]
    },
    {
      "cell_type": "markdown",
      "metadata": {
        "id": "h7NMguvkl7uU",
        "colab_type": "text"
      },
      "source": [
        "# Useful Links"
      ]
    },
    {
      "cell_type": "markdown",
      "metadata": {
        "id": "JXXUQgxOMyNC",
        "colab_type": "text"
      },
      "source": [
        "https://www.kaggle.com/saga21/covid-global-forecast-sir-model-ml-regressions\n",
        "\n",
        "https://www.kaggle.com/frlemarchand/covid-19-forecasting-with-an-rnn"
      ]
    },
    {
      "cell_type": "markdown",
      "metadata": {
        "id": "GeobCguN0NMK",
        "colab_type": "text"
      },
      "source": [
        "# Travel History Analysis"
      ]
    },
    {
      "cell_type": "code",
      "metadata": {
        "id": "IHMttHcXx128",
        "colab_type": "code",
        "colab": {}
      },
      "source": [
        "# Filter all the Travel data and pick all instances > 5:\n",
        "notes_cleaned = data[data[\"notes\"].str.contains(\"Travelled\", na=False)]\n",
        "v = notes_cleaned[['notes']]\n",
        "notes_cleaned = notes_cleaned[v.replace(v.stack().value_counts()).gt(5).all(1)]\n",
        "notes_cleaned['notes'].unique()"
      ],
      "execution_count": 0,
      "outputs": []
    },
    {
      "cell_type": "markdown",
      "metadata": {
        "id": "HzQ5BgDMmJTs",
        "colab_type": "text"
      },
      "source": [
        "Here we observe there is redundancy in the form of duplicacy, we thus convert 'Travelled from Dubai, UAE' & 'Travelled from Dubai' and analyze the over all spread of the disease due to travel(few more locations are merged)"
      ]
    },
    {
      "cell_type": "code",
      "metadata": {
        "id": "Tc9PTfIp0Ti0",
        "colab_type": "code",
        "colab": {}
      },
      "source": [
        "# Removing the different labels\n",
        "notes_cleaned[\"notes\"] = notes_cleaned[\"notes\"].str.replace('Travelled from Dubai, UAE', 'Travelled from Dubai')\n",
        "notes_cleaned[\"notes\"] = notes_cleaned[\"notes\"].str.replace('Travelled from London', 'Travelled from UK')\n",
        "notes_cleaned[\"notes\"] = notes_cleaned[\"notes\"].str.replace('Travelled to Delhi', 'Travelled from Delhi')\n",
        "notes_cleaned[\"notes\"] = notes_cleaned[\"notes\"].str.replace('Travelled to Delhi', 'Travelled from Delhi')\n",
        "notes_cleaned[\"notes\"] = notes_cleaned[\"notes\"].str.replace('Travelled from Delhi and Contact history with TN-P5 and TN-P6', 'Travelled from Delhi')\n",
        "#dont know why but everything is working except the below two lines\n",
        "notes_cleaned[\"notes\"] = notes_cleaned[\"notes\"].str.replace('Travelled from Iran, Resident of Ladakh( S.N Medical College ) - Evacuee', 'Travelled from Iran')\n",
        "notes_cleaned[\"notes\"] = notes_cleaned[\"notes\"].str.replace('Travelled from Iran, Resident of Ladakh( AIIMS ) - Evacuee', 'Travelled from Iran')\n",
        "\n",
        "# Rename column name to Available Information\n",
        "notes_cleaned = notes_cleaned.rename(columns={'notes':'Available Information'})\n",
        "\n",
        "# Pie Chart to show the travel related spread of Coronavirus\n",
        "fig = go.Figure(data=[go.Pie(labels=notes_cleaned['Available Information'], values = notes_cleaned['confirmed'],pull=0.05)])\n",
        "fig.show()\n",
        "notes_cleaned['Available Information'].unique()"
      ],
      "execution_count": 0,
      "outputs": []
    },
    {
      "cell_type": "code",
      "metadata": {
        "id": "RueYNjDSgYhb",
        "colab_type": "code",
        "colab": {}
      },
      "source": [
        "pie_data = {}\n",
        "pie_data['travel'] = notes_cleaned['Available Information'].unique()\n",
        "pie_data = pd.DataFrame.from_dict(pie_data)\n",
        "pie_data['per'] = 0\n",
        "pie_data"
      ],
      "execution_count": 0,
      "outputs": []
    },
    {
      "cell_type": "code",
      "metadata": {
        "id": "4-EZkwXRe4Xj",
        "colab_type": "code",
        "colab": {}
      },
      "source": [
        "Travelled_from_Italy = 0\n",
        "Travelled_from_Dubai = 0\n",
        "Travelled_from_MiddleEast = 0\n",
        "Travelled_from_UK = 0\n",
        "Travelled_from_SaudiArabia = 0\n",
        "Travelled_from_Delhi = 0\n",
        "Travelled_from_IranResidentofLadakhSNMedicalCollegeEvacuee = 0\n",
        "Travelled_from_IranResidentofLadakhAIIMSEvacuee = 0 "
      ],
      "execution_count": 0,
      "outputs": []
    },
    {
      "cell_type": "code",
      "metadata": {
        "id": "Xe2LJButX8FH",
        "colab_type": "code",
        "colab": {}
      },
      "source": [
        "for row in notes_cleaned.index:\n",
        "  if(notes_cleaned['Available Information'][row] == \"Travelled from Italy\"):\n",
        "    Travelled_from_Italy += 1\n",
        "  elif(notes_cleaned['Available Information'][row] == \"Travelled from Dubai\"):\n",
        "    Travelled_from_Dubai += 1\n",
        "  elif(notes_cleaned['Available Information'][row] == \"Travelled from Middle East\"):\n",
        "    Travelled_from_MiddleEast += 1\n",
        "  elif(notes_cleaned['Available Information'][row] == \"Travelled from UK\"):\n",
        "    Travelled_from_UK += 1    \n",
        "  elif(notes_cleaned['Available Information'][row] == \"Travelled from Saudi Arabia\"):\n",
        "    Travelled_from_SaudiArabia += 1 \n",
        "  elif(notes_cleaned['Available Information'][row] == \"Travelled from Delhi\"):\n",
        "    Travelled_from_Delhi += 1 \n",
        "  elif(notes_cleaned['Available Information'][row] == \"Travelled from Iran, Resident of Ladakh( S.N Medical College ) - Evacuee\"):\n",
        "    Travelled_from_IranResidentofLadakhSNMedicalCollegeEvacuee += 1 \n",
        "  elif(notes_cleaned['Available Information'][row] == \"Travelled from Iran, Resident of Ladakh( AIIMS ) - Evacuee\"):\n",
        "    Travelled_from_IranResidentofLadakhAIIMSEvacuee += 1                    "
      ],
      "execution_count": 0,
      "outputs": []
    },
    {
      "cell_type": "code",
      "metadata": {
        "id": "rk6Zqj4Kk4_L",
        "colab_type": "code",
        "colab": {}
      },
      "source": [
        "pie_data['per'][pie_data['travel'] == ('Travelled from Italy') ] = (Travelled_from_Italy/total)*100\n",
        "pie_data['per'][pie_data['travel'] == ('Travelled from Dubai') ] = (Travelled_from_Dubai/total)*100\n",
        "pie_data['per'][pie_data['travel'] == ('Travelled from Middle East') ] = (Travelled_from_MiddleEast/total)*100\n",
        "pie_data['per'][pie_data['travel'] == ('Travelled from UK') ] = (Travelled_from_UK/total)*100\n",
        "pie_data['per'][pie_data['travel'] == ('Travelled from Delhi') ] = (Travelled_from_Delhi/total)*100\n",
        "pie_data['per'][pie_data['travel'] == ('Travelled from Saudi Arabia') ] = (Travelled_from_SaudiArabia/total)*100\n",
        "pie_data['per'][pie_data['travel'] == ('Travelled from Iran, Resident of Ladakh( S.N Medical College ) - Evacuee') ] = (Travelled_from_IranResidentofLadakhSNMedicalCollegeEvacuee/total)*100\n",
        "pie_data['per'][pie_data['travel'] == ('Travelled from Iran, Resident of Ladakh( AIIMS ) - Evacuee') ] = (Travelled_from_IranResidentofLadakhAIIMSEvacuee/total)*100"
      ],
      "execution_count": 0,
      "outputs": []
    },
    {
      "cell_type": "markdown",
      "metadata": {
        "id": "gvRz9-33UVbE",
        "colab_type": "text"
      },
      "source": [
        "# Before Lockdown v/s After lockdown"
      ]
    },
    {
      "cell_type": "code",
      "metadata": {
        "id": "yAYppU9EYa0y",
        "colab_type": "code",
        "colab": {}
      },
      "source": [
        "grouped = data.groupby('Diagnosed date')['Diagnosed date', 'confirmed'].sum().reset_index()\n",
        "s=0\n",
        "grouped['tot_confirmed'] = grouped['confirmed']\n",
        "for row in grouped.index:\n",
        "  grouped['tot_confirmed'][row] += s\n",
        "  s = grouped['tot_confirmed'][row]  "
      ],
      "execution_count": 0,
      "outputs": []
    },
    {
      "cell_type": "code",
      "metadata": {
        "id": "lO2qrrZtUgqp",
        "colab_type": "code",
        "colab": {}
      },
      "source": [
        "bef_lockdown = grouped[grouped['Diagnosed date'] < '2020-03-25' ]\n",
        "fig = px.line(bef_lockdown, x=\"Diagnosed date\", y=\"tot_confirmed\", title=\"Day Wise Confirmed Cases in India Before Lockdown\", width=900, height=650)\n",
        "\n",
        "fig.show()\n",
        "\n",
        "print(\"\\n\")\n",
        "\n",
        "after_lockdown = grouped[grouped['Diagnosed date'] >= '2020-03-25' ]\n",
        "fig = px.line(after_lockdown, x=\"Diagnosed date\", y=\"tot_confirmed\", title=\"Day Wise Confirmed Cases in India After/During Lockdown\", width=900, height=650)\n",
        "\n",
        "fig.show()"
      ],
      "execution_count": 0,
      "outputs": []
    },
    {
      "cell_type": "markdown",
      "metadata": {
        "id": "Gt8I5mApwh6w",
        "colab_type": "text"
      },
      "source": [
        "# Age Analysis"
      ]
    },
    {
      "cell_type": "code",
      "metadata": {
        "id": "ncUMc9gBwcx4",
        "colab_type": "code",
        "colab": {}
      },
      "source": [
        "fig = px.histogram(data, x=\"Age\")\n",
        "fig.show()"
      ],
      "execution_count": 0,
      "outputs": []
    },
    {
      "cell_type": "code",
      "metadata": {
        "id": "paQJYmev6v2X",
        "colab_type": "code",
        "colab": {}
      },
      "source": [
        "#comparing age gender wise\n",
        "fig = px.histogram(data, x=\"Age\", color='Gender')\n",
        "fig.show()"
      ],
      "execution_count": 0,
      "outputs": []
    },
    {
      "cell_type": "markdown",
      "metadata": {
        "id": "hkWtVkSr5xbJ",
        "colab_type": "text"
      },
      "source": [
        "# ML"
      ]
    },
    {
      "cell_type": "code",
      "metadata": {
        "id": "Py-tQMlVw4ld",
        "colab_type": "code",
        "colab": {}
      },
      "source": [
        "# Trying Making Some Predictions:\n",
        "import numpy as np \n",
        "import matplotlib.pyplot as plt \n",
        "import matplotlib.colors as mcolors\n",
        "import pandas as pd \n",
        "import random\n",
        "import math\n",
        "import time\n",
        "from sklearn.linear_model import LinearRegression, BayesianRidge\n",
        "from sklearn.model_selection import RandomizedSearchCV, train_test_split\n",
        "from sklearn.preprocessing import PolynomialFeatures\n",
        "from sklearn.tree import DecisionTreeRegressor\n",
        "from sklearn.svm import SVR\n",
        "from sklearn.metrics import mean_squared_error, mean_absolute_error\n",
        "import datetime\n",
        "import operator \n",
        "plt.style.use('fivethirtyeight')\n",
        "%matplotlib inline "
      ],
      "execution_count": 0,
      "outputs": []
    },
    {
      "cell_type": "code",
      "metadata": {
        "id": "Mk5anMb6BWpE",
        "colab_type": "code",
        "colab": {}
      },
      "source": [
        "india_cases = grouped[['Diagnosed date','tot_confirmed']]\n",
        "india_daily_increase = grouped[['tot_confirmed']]\n",
        "india_daily_increase.head()"
      ],
      "execution_count": 0,
      "outputs": []
    },
    {
      "cell_type": "code",
      "metadata": {
        "id": "Xfrs96HOBnLi",
        "colab_type": "code",
        "colab": {}
      },
      "source": [
        "dates = grouped[['Diagnosed date']]\n",
        "days_since_1_30 = np.array([i for i in range(len(dates))]).reshape(-1, 1)\n",
        "india_cases = np.array(india_cases).reshape(-1, 1)"
      ],
      "execution_count": 0,
      "outputs": []
    },
    {
      "cell_type": "code",
      "metadata": {
        "id": "CMQAMK1oDe4W",
        "colab_type": "code",
        "colab": {}
      },
      "source": [
        "#future forecasting:\n",
        "days_in_future = 10\n",
        "future_forcast = np.array([i for i in range(len(dates)+days_in_future)]).reshape(-1, 1)\n",
        "adjusted_dates = future_forcast[:-10]"
      ],
      "execution_count": 0,
      "outputs": []
    },
    {
      "cell_type": "code",
      "metadata": {
        "id": "QLHsL1KKE0Xj",
        "colab_type": "code",
        "colab": {}
      },
      "source": [
        "#converting dates into datetime\n",
        "start = '1/30/2020'\n",
        "start_date = datetime.datetime.strptime(start, '%m/%d/%Y')\n",
        "future_forcast_dates = []\n",
        "for i in range(len(future_forcast)):\n",
        "    future_forcast_dates.append((start_date + datetime.timedelta(days=i)).strftime('%m/%d/%Y'))"
      ],
      "execution_count": 0,
      "outputs": []
    },
    {
      "cell_type": "code",
      "metadata": {
        "id": "V5EZG7olE9Mv",
        "colab_type": "code",
        "colab": {}
      },
      "source": [
        "X_train_confirmed, X_test_confirmed, y_train_confirmed, y_test_confirmed = train_test_split(days_since_1_30, india_daily_increase, test_size=0.10, shuffle=False) "
      ],
      "execution_count": 0,
      "outputs": []
    },
    {
      "cell_type": "code",
      "metadata": {
        "id": "vewXkk0oHq66",
        "colab_type": "code",
        "colab": {}
      },
      "source": [
        "# transform our data for polynomial regression\n",
        "poly = PolynomialFeatures(degree=5)\n",
        "poly_X_train_confirmed = poly.fit_transform(X_train_confirmed)\n",
        "poly_X_test_confirmed = poly.fit_transform(X_test_confirmed)\n",
        "poly_future_forcast = poly.fit_transform(future_forcast)\n",
        "# polynomial regression\n",
        "linear_model = LinearRegression(normalize=True, fit_intercept=False)\n",
        "linear_model.fit(poly_X_train_confirmed, y_train_confirmed)\n",
        "test_linear_pred = linear_model.predict(poly_X_test_confirmed)\n",
        "linear_pred = linear_model.predict(poly_future_forcast)\n",
        "print('MAE:', mean_absolute_error(test_linear_pred, y_test_confirmed))\n",
        "print('MSE:',mean_squared_error(test_linear_pred, y_test_confirmed))"
      ],
      "execution_count": 0,
      "outputs": []
    },
    {
      "cell_type": "code",
      "metadata": {
        "id": "fStG5YP6Id4Y",
        "colab_type": "code",
        "colab": {}
      },
      "source": [
        "# plt.plot(y_test_confirmed)\n",
        "# plt.plot(test_bayesian_pred)\n",
        "# plt.legend(['Test Data', 'Bayesian Ridge Polynomial Predictions'])"
      ],
      "execution_count": 0,
      "outputs": []
    },
    {
      "cell_type": "code",
      "metadata": {
        "id": "jr7UjgVcJF_1",
        "colab_type": "code",
        "colab": {}
      },
      "source": [
        "#Kafi confusing hai raat ko koshih krta hu"
      ],
      "execution_count": 0,
      "outputs": []
    },
    {
      "cell_type": "markdown",
      "metadata": {
        "id": "W6l2vlHB_a9z",
        "colab_type": "text"
      },
      "source": [
        "# Testing Analysis"
      ]
    },
    {
      "cell_type": "code",
      "metadata": {
        "colab_type": "code",
        "id": "XFVufy8w_qnq",
        "colab": {}
      },
      "source": [
        "# link = 'https://docs.google.com/spreadsheets/d/e/2PACX-1vSc_2y5N0I67wDU38DjDh35IZSIS30rQf7_NYZhtYYGU1jJYT6_kDx4YpF-qw0LSlGsBYP8pqM_a1Pd/pubhtml#'\n",
        "# req = requests.get(link)\n",
        "# soup = BeautifulSoup(req.content, \"html.parser\")"
      ],
      "execution_count": 0,
      "outputs": []
    },
    {
      "cell_type": "code",
      "metadata": {
        "id": "nUPCPcub8Thn",
        "colab_type": "code",
        "colab": {}
      },
      "source": [
        "# Statewise tested numbers data\n",
        "\n",
        "testing_data = getDataFromSheet(id='486127050', index=3)\n",
        "\n",
        "# Filtering non-essential data\n",
        "testing_data = testing_data[[\"Updated On\", \"State\", \"Total Tested\", \"Positive\", \"Negative\", \"Unconfirmed\"]]"
      ],
      "execution_count": 0,
      "outputs": []
    },
    {
      "cell_type": "code",
      "metadata": {
        "id": "OOimc-vq8Tdd",
        "colab_type": "code",
        "colab": {}
      },
      "source": [
        "# Removing redundant entries\n",
        "testing_data = testing_data[testing_data['Updated On'] != '']"
      ],
      "execution_count": 0,
      "outputs": []
    },
    {
      "cell_type": "code",
      "metadata": {
        "id": "9-FcDxEOvSAT",
        "colab_type": "code",
        "colab": {}
      },
      "source": [
        "# Converting date string to datatime objects\n",
        "testing_data['Updated On'] = pd.to_datetime(testing_data['Updated On'], format='%d/%m/%Y')\n",
        "\n",
        "# Removing wrong data entry\n",
        "testing_data = testing_data[ testing_data['Total Tested'] != '14/04/2020' ]"
      ],
      "execution_count": 0,
      "outputs": []
    },
    {
      "cell_type": "code",
      "metadata": {
        "id": "rhKpsUcLAiiO",
        "colab_type": "code",
        "colab": {}
      },
      "source": [
        "# Converting strings to floating point values after removing ','\n",
        "\n",
        "testing_data.replace(to_replace=\"\", value=\"0\", inplace=True)   ######VERY CRUCIAL, WITHOUT THIS CODE BREAKS, IDK WHY THOUGH {TOOK 30 MIN TO FIND}\n",
        "\n",
        "testing_data['Total Tested'] = testing_data['Total Tested'].str.replace(',', '').astype(float)\n",
        "testing_data['Positive'] = testing_data['Positive'].str.replace(',', '').astype(float)\n",
        "testing_data['Negative'] = testing_data['Negative'].str.replace(',', '').astype(float)\n",
        "testing_data['Unconfirmed'] = testing_data['Unconfirmed'].str.replace(',', '').astype(float)"
      ],
      "execution_count": 0,
      "outputs": []
    },
    {
      "cell_type": "code",
      "metadata": {
        "id": "ERv8lbH3AxFO",
        "colab_type": "code",
        "colab": {}
      },
      "source": [
        "last_updated_on = testing_data['Updated On'].max()\n",
        "\n",
        "# Seperating the data to be grouped\n",
        "\n",
        "grouped_testing_data = testing_data\n",
        "\n",
        "# Sorting the data according to the total number of tested cases\n",
        "\n",
        "grouped_testing_data = grouped_testing_data.sort_values(['Total Tested'],ascending=False)\n",
        "\n",
        "# Grouped_testing_data\n",
        "\n",
        "grouped_testing_data = grouped_testing_data.groupby('Updated On')['Total Tested', 'Positive', 'Negative',\n",
        "       'Unconfirmed'].sum().reset_index()\n"
      ],
      "execution_count": 0,
      "outputs": []
    },
    {
      "cell_type": "code",
      "metadata": {
        "id": "gxWMqspdfpYO",
        "colab_type": "code",
        "colab": {}
      },
      "source": [
        "# import time module to access time based functions\n",
        "import time\n",
        "\n",
        "# Create the date we want to exclude and convert it be a time object\n",
        "d1 = \"2020-02-04\"\n",
        "newdate1 = time.strptime(d1, \"%Y-%m-%d\")\n",
        "\n",
        "# remove the date\n",
        "grouped_testing_data = grouped_testing_data[grouped_testing_data['Updated On'] != d1 ]\n",
        "grouped_testing_data"
      ],
      "execution_count": 0,
      "outputs": []
    },
    {
      "cell_type": "markdown",
      "metadata": {
        "id": "LmC6k68TA6ke",
        "colab_type": "text"
      },
      "source": [
        "# Saving The Cleaned Data"
      ]
    },
    {
      "cell_type": "code",
      "metadata": {
        "id": "tW37Li7HA5dm",
        "colab_type": "code",
        "colab": {}
      },
      "source": [
        "## CLEANED DATA FOR TESTING ANALYSIS\n",
        "\n",
        "grouped_testing_data.to_csv('/drive/My Drive/Covid19/grouped_testing_data.csv')"
      ],
      "execution_count": 0,
      "outputs": []
    },
    {
      "cell_type": "code",
      "metadata": {
        "id": "ZnDgaYSMlON7",
        "colab_type": "code",
        "colab": {}
      },
      "source": [
        "# Bar graph which showcases the total number of tests conducted daywise in India\n",
        "\n",
        "fig = px.bar(grouped_testing_data,\n",
        "             x='Updated On', y='Total Tested',\n",
        "             title='Tests Conducted state-wise in India: ', text='Total Tested', height=800, width=1000)\n",
        "\n",
        "fig.show()"
      ],
      "execution_count": 0,
      "outputs": []
    },
    {
      "cell_type": "markdown",
      "metadata": {
        "id": "2y-xyDLeevgw",
        "colab_type": "text"
      },
      "source": [
        "# Quick Analysis( Obesity )"
      ]
    },
    {
      "cell_type": "code",
      "metadata": {
        "id": "6Gwf_qqZ8S-6",
        "colab_type": "code",
        "colab": {}
      },
      "source": [
        "flg = data.groupby('Detected state')['confirmed', 'death', 'recovered', 'active'].sum().reset_index()\n",
        "\n",
        "flg['mortalityRate'] = round((flg['death']/flg['confirmed'])*100, 2)\n",
        "\n",
        "temp = flg[flg['confirmed']>10]\n",
        "temp = temp.sort_values('mortalityRate', ascending=False)\n",
        "\n",
        "# print(flg)\n",
        "\n",
        "fig = px.bar(temp.sort_values(by=\"mortalityRate\", ascending=False)[:8][::-1],\n",
        "             x = 'mortalityRate', y = 'Detected state', \n",
        "             title='Deaths per 10 Confirmed Cases', text='mortalityRate', height=500, orientation='h',\n",
        "             color_discrete_sequence=['darkred']\n",
        "            )\n",
        "fig.show()"
      ],
      "execution_count": 0,
      "outputs": []
    },
    {
      "cell_type": "markdown",
      "metadata": {
        "id": "pBkokX0TA2EJ",
        "colab_type": "text"
      },
      "source": [
        "# Git Integration:\n",
        "\n",
        "## File > Save a Copy to Git\n",
        "\n",
        "![image.png](data:image/png;base64,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)"
      ]
    },
    {
      "cell_type": "markdown",
      "metadata": {
        "id": "jNKIOCeRwhnU",
        "colab_type": "text"
      },
      "source": [
        "### District Wise analysis updated (28/04/20)"
      ]
    },
    {
      "cell_type": "code",
      "metadata": {
        "id": "g9vj-q2-g5qb",
        "colab_type": "code",
        "colab": {
          "base_uri": "https://localhost:8080/",
          "height": 35
        },
        "outputId": "910cd7a9-9849-4720-dc89-60cc78e95692"
      },
      "source": [
        "# Fetching and Parsing the data\n",
        "state_district_wise = get('https://api.covid19india.org/v2/state_district_wise.json')\n",
        "\n",
        "df = pd.DataFrame(columns=['district', 'notes', 'active', 'confirmed', 'deceased', 'recovered', 'delta.confirmed', 'delta.deceased', 'delta.recovered'])\n",
        "for row in state_district_wise:\n",
        "  state_district_wise = row\n",
        "  data = json_normalize(state_district_wise)\n",
        "  state = json_normalize(data['districtData'][0])\n",
        "  df = df.append(state)"
      ],
      "execution_count": 75,
      "outputs": [
        {
          "output_type": "stream",
          "text": [
            "Request returned 200 : 'OK'\n"
          ],
          "name": "stdout"
        }
      ]
    },
    {
      "cell_type": "code",
      "metadata": {
        "id": "QiyJX5jRhJY2",
        "colab_type": "code",
        "colab": {}
      },
      "source": [
        "df = df[[\"district\",\"active\",\"confirmed\",\"deceased\",\"recovered\"]]\n"
      ],
      "execution_count": 0,
      "outputs": []
    },
    {
      "cell_type": "code",
      "metadata": {
        "id": "6WTOerGvk1aw",
        "colab_type": "code",
        "colab": {}
      },
      "source": [
        "df = df[df.district != \"Unknown\"]"
      ],
      "execution_count": 0,
      "outputs": []
    },
    {
      "cell_type": "code",
      "metadata": {
        "id": "SnvYs-Tcu5GN",
        "colab_type": "code",
        "colab": {
          "base_uri": "https://localhost:8080/",
          "height": 867
        },
        "outputId": "4c033562-02c9-46f8-b9a5-c47a1096bc02"
      },
      "source": [
        "latest_grouped = df.groupby('district')['confirmed'].sum().reset_index()\n",
        "\n",
        "fig = px.bar(latest_grouped.sort_values('confirmed', ascending=False)[:20][::-1], \n",
        "             x='confirmed', y='district',\n",
        "             title='20 most affected Districts in India', text='confirmed', height=850, orientation='h')\n",
        "fig.show()"
      ],
      "execution_count": 92,
      "outputs": [
        {
          "output_type": "display_data",
          "data": {
            "text/html": [
              "<html>\n",
              "<head><meta charset=\"utf-8\" /></head>\n",
              "<body>\n",
              "    <div>\n",
              "            <script src=\"https://cdnjs.cloudflare.com/ajax/libs/mathjax/2.7.5/MathJax.js?config=TeX-AMS-MML_SVG\"></script><script type=\"text/javascript\">if (window.MathJax) {MathJax.Hub.Config({SVG: {font: \"STIX-Web\"}});}</script>\n",
              "                <script type=\"text/javascript\">window.PlotlyConfig = {MathJaxConfig: 'local'};</script>\n",
              "        <script src=\"https://cdn.plot.ly/plotly-latest.min.js\"></script>    \n",
              "            <div id=\"989c001f-b24d-4c06-87bc-27291951988f\" class=\"plotly-graph-div\" style=\"height:850px; width:100%;\"></div>\n",
              "            <script type=\"text/javascript\">\n",
              "                \n",
              "                    window.PLOTLYENV=window.PLOTLYENV || {};\n",
              "                    \n",
              "                if (document.getElementById(\"989c001f-b24d-4c06-87bc-27291951988f\")) {\n",
              "                    Plotly.newPlot(\n",
              "                        '989c001f-b24d-4c06-87bc-27291951988f',\n",
              "                        [{\"alignmentgroup\": \"True\", \"hoverlabel\": {\"namelength\": 0}, \"hovertemplate\": \"confirmed=%{text}<br>district=%{y}\", \"legendgroup\": \"\", \"marker\": {\"color\": \"#636efa\"}, \"name\": \"\", \"offsetgroup\": \"\", \"orientation\": \"h\", \"showlegend\": false, \"text\": [184.0, 184.0, 196.0, 197.0, 210.0, 237.0, 240.0, 292.0, 375.0, 384.0, 428.0, 542.0, 556.0, 575.0, 738.0, 833.0, 1052.0, 1207.0, 2378.0, 5407.0], \"textposition\": \"auto\", \"type\": \"bar\", \"x\": [184, 184, 196, 197, 210, 237, 240, 292, 375, 384, 428, 542, 556, 575, 738, 833, 1052, 1207, 2378, 5407], \"xaxis\": \"x\", \"y\": [\"Kolkata\", \"Central Delhi\", \"Lucknow\", \"Kanpur Nagar\", \"Krishna\", \"Guntur\", \"Vadodara\", \"Kurnool\", \"Jodhpur\", \"Agra\", \"Bhopal\", \"Hyderabad\", \"Surat\", \"Chennai\", \"Thane\", \"Jaipur\", \"Pune\", \"Indore\", \"Ahmadabad\", \"Mumbai\"], \"yaxis\": \"y\"}],\n",
              "                        {\"barmode\": \"relative\", \"height\": 850, \"legend\": {\"tracegroupgap\": 0}, \"template\": {\"data\": {\"bar\": [{\"error_x\": {\"color\": \"#f2f5fa\"}, \"error_y\": {\"color\": \"#f2f5fa\"}, \"marker\": {\"line\": {\"color\": \"rgb(17,17,17)\", \"width\": 0.5}}, \"type\": \"bar\"}], \"barpolar\": [{\"marker\": {\"line\": {\"color\": \"rgb(17,17,17)\", \"width\": 0.5}}, \"type\": \"barpolar\"}], \"carpet\": [{\"aaxis\": {\"endlinecolor\": \"#A2B1C6\", \"gridcolor\": \"#506784\", \"linecolor\": \"#506784\", \"minorgridcolor\": \"#506784\", \"startlinecolor\": \"#A2B1C6\"}, \"baxis\": {\"endlinecolor\": \"#A2B1C6\", \"gridcolor\": \"#506784\", \"linecolor\": \"#506784\", \"minorgridcolor\": \"#506784\", \"startlinecolor\": \"#A2B1C6\"}, \"type\": \"carpet\"}], \"choropleth\": [{\"colorbar\": {\"outlinewidth\": 0, \"ticks\": \"\"}, \"type\": \"choropleth\"}], \"contour\": [{\"colorbar\": {\"outlinewidth\": 0, \"ticks\": \"\"}, \"colorscale\": [[0.0, \"#0d0887\"], [0.1111111111111111, \"#46039f\"], [0.2222222222222222, \"#7201a8\"], [0.3333333333333333, \"#9c179e\"], [0.4444444444444444, \"#bd3786\"], [0.5555555555555556, \"#d8576b\"], [0.6666666666666666, \"#ed7953\"], [0.7777777777777778, \"#fb9f3a\"], [0.8888888888888888, \"#fdca26\"], [1.0, \"#f0f921\"]], \"type\": \"contour\"}], \"contourcarpet\": [{\"colorbar\": {\"outlinewidth\": 0, \"ticks\": \"\"}, \"type\": \"contourcarpet\"}], \"heatmap\": [{\"colorbar\": {\"outlinewidth\": 0, \"ticks\": \"\"}, \"colorscale\": [[0.0, \"#0d0887\"], [0.1111111111111111, \"#46039f\"], [0.2222222222222222, \"#7201a8\"], [0.3333333333333333, \"#9c179e\"], [0.4444444444444444, \"#bd3786\"], [0.5555555555555556, \"#d8576b\"], [0.6666666666666666, \"#ed7953\"], [0.7777777777777778, \"#fb9f3a\"], [0.8888888888888888, \"#fdca26\"], [1.0, \"#f0f921\"]], \"type\": \"heatmap\"}], \"heatmapgl\": [{\"colorbar\": {\"outlinewidth\": 0, \"ticks\": \"\"}, \"colorscale\": [[0.0, \"#0d0887\"], [0.1111111111111111, \"#46039f\"], [0.2222222222222222, \"#7201a8\"], [0.3333333333333333, \"#9c179e\"], [0.4444444444444444, \"#bd3786\"], [0.5555555555555556, \"#d8576b\"], [0.6666666666666666, \"#ed7953\"], [0.7777777777777778, \"#fb9f3a\"], [0.8888888888888888, \"#fdca26\"], [1.0, \"#f0f921\"]], \"type\": \"heatmapgl\"}], \"histogram\": [{\"marker\": {\"colorbar\": {\"outlinewidth\": 0, \"ticks\": \"\"}}, \"type\": \"histogram\"}], \"histogram2d\": [{\"colorbar\": {\"outlinewidth\": 0, \"ticks\": \"\"}, \"colorscale\": [[0.0, \"#0d0887\"], [0.1111111111111111, \"#46039f\"], [0.2222222222222222, \"#7201a8\"], [0.3333333333333333, \"#9c179e\"], [0.4444444444444444, \"#bd3786\"], [0.5555555555555556, \"#d8576b\"], [0.6666666666666666, \"#ed7953\"], [0.7777777777777778, \"#fb9f3a\"], [0.8888888888888888, \"#fdca26\"], [1.0, \"#f0f921\"]], \"type\": \"histogram2d\"}], \"histogram2dcontour\": [{\"colorbar\": {\"outlinewidth\": 0, \"ticks\": \"\"}, \"colorscale\": [[0.0, \"#0d0887\"], [0.1111111111111111, \"#46039f\"], [0.2222222222222222, \"#7201a8\"], [0.3333333333333333, \"#9c179e\"], [0.4444444444444444, \"#bd3786\"], [0.5555555555555556, \"#d8576b\"], [0.6666666666666666, \"#ed7953\"], [0.7777777777777778, \"#fb9f3a\"], [0.8888888888888888, \"#fdca26\"], [1.0, \"#f0f921\"]], \"type\": \"histogram2dcontour\"}], \"mesh3d\": [{\"colorbar\": {\"outlinewidth\": 0, \"ticks\": \"\"}, \"type\": \"mesh3d\"}], \"parcoords\": [{\"line\": {\"colorbar\": {\"outlinewidth\": 0, \"ticks\": \"\"}}, \"type\": \"parcoords\"}], \"pie\": [{\"automargin\": true, \"type\": \"pie\"}], \"scatter\": [{\"marker\": {\"line\": {\"color\": \"#283442\"}}, \"type\": \"scatter\"}], \"scatter3d\": [{\"line\": {\"colorbar\": {\"outlinewidth\": 0, \"ticks\": \"\"}}, \"marker\": {\"colorbar\": {\"outlinewidth\": 0, \"ticks\": \"\"}}, \"type\": \"scatter3d\"}], \"scattercarpet\": [{\"marker\": {\"colorbar\": {\"outlinewidth\": 0, \"ticks\": \"\"}}, \"type\": \"scattercarpet\"}], \"scattergeo\": [{\"marker\": {\"colorbar\": {\"outlinewidth\": 0, \"ticks\": \"\"}}, \"type\": \"scattergeo\"}], \"scattergl\": [{\"marker\": {\"line\": {\"color\": \"#283442\"}}, \"type\": \"scattergl\"}], \"scattermapbox\": [{\"marker\": {\"colorbar\": {\"outlinewidth\": 0, \"ticks\": \"\"}}, \"type\": \"scattermapbox\"}], \"scatterpolar\": [{\"marker\": {\"colorbar\": {\"outlinewidth\": 0, \"ticks\": \"\"}}, \"type\": \"scatterpolar\"}], \"scatterpolargl\": [{\"marker\": {\"colorbar\": {\"outlinewidth\": 0, \"ticks\": \"\"}}, \"type\": \"scatterpolargl\"}], \"scatterternary\": [{\"marker\": {\"colorbar\": {\"outlinewidth\": 0, \"ticks\": \"\"}}, \"type\": \"scatterternary\"}], \"surface\": [{\"colorbar\": {\"outlinewidth\": 0, \"ticks\": \"\"}, \"colorscale\": [[0.0, \"#0d0887\"], [0.1111111111111111, \"#46039f\"], [0.2222222222222222, \"#7201a8\"], [0.3333333333333333, \"#9c179e\"], [0.4444444444444444, \"#bd3786\"], [0.5555555555555556, \"#d8576b\"], [0.6666666666666666, \"#ed7953\"], [0.7777777777777778, \"#fb9f3a\"], [0.8888888888888888, \"#fdca26\"], [1.0, \"#f0f921\"]], \"type\": \"surface\"}], \"table\": [{\"cells\": {\"fill\": {\"color\": \"#506784\"}, \"line\": {\"color\": \"rgb(17,17,17)\"}}, \"header\": {\"fill\": {\"color\": \"#2a3f5f\"}, \"line\": {\"color\": \"rgb(17,17,17)\"}}, \"type\": \"table\"}]}, \"layout\": {\"annotationdefaults\": {\"arrowcolor\": \"#f2f5fa\", \"arrowhead\": 0, \"arrowwidth\": 1}, \"coloraxis\": {\"colorbar\": {\"outlinewidth\": 0, \"ticks\": \"\"}}, \"colorscale\": {\"diverging\": [[0, \"#8e0152\"], [0.1, \"#c51b7d\"], [0.2, \"#de77ae\"], [0.3, \"#f1b6da\"], [0.4, \"#fde0ef\"], [0.5, \"#f7f7f7\"], [0.6, \"#e6f5d0\"], [0.7, \"#b8e186\"], [0.8, \"#7fbc41\"], [0.9, \"#4d9221\"], [1, \"#276419\"]], \"sequential\": [[0.0, \"#0d0887\"], [0.1111111111111111, \"#46039f\"], [0.2222222222222222, \"#7201a8\"], [0.3333333333333333, \"#9c179e\"], [0.4444444444444444, \"#bd3786\"], [0.5555555555555556, \"#d8576b\"], [0.6666666666666666, \"#ed7953\"], [0.7777777777777778, \"#fb9f3a\"], [0.8888888888888888, \"#fdca26\"], [1.0, \"#f0f921\"]], \"sequentialminus\": [[0.0, \"#0d0887\"], [0.1111111111111111, \"#46039f\"], [0.2222222222222222, \"#7201a8\"], [0.3333333333333333, \"#9c179e\"], [0.4444444444444444, \"#bd3786\"], [0.5555555555555556, \"#d8576b\"], [0.6666666666666666, \"#ed7953\"], [0.7777777777777778, \"#fb9f3a\"], [0.8888888888888888, \"#fdca26\"], [1.0, \"#f0f921\"]]}, \"colorway\": [\"#636efa\", \"#EF553B\", \"#00cc96\", \"#ab63fa\", \"#FFA15A\", \"#19d3f3\", \"#FF6692\", \"#B6E880\", \"#FF97FF\", \"#FECB52\"], \"font\": {\"color\": \"#f2f5fa\"}, \"geo\": {\"bgcolor\": \"rgb(17,17,17)\", \"lakecolor\": \"rgb(17,17,17)\", \"landcolor\": \"rgb(17,17,17)\", \"showlakes\": true, \"showland\": true, \"subunitcolor\": \"#506784\"}, \"hoverlabel\": {\"align\": \"left\"}, \"hovermode\": \"closest\", \"mapbox\": {\"style\": \"dark\"}, \"paper_bgcolor\": \"rgb(17,17,17)\", \"plot_bgcolor\": \"rgb(17,17,17)\", \"polar\": {\"angularaxis\": {\"gridcolor\": \"#506784\", \"linecolor\": \"#506784\", \"ticks\": \"\"}, \"bgcolor\": \"rgb(17,17,17)\", \"radialaxis\": {\"gridcolor\": \"#506784\", \"linecolor\": \"#506784\", \"ticks\": \"\"}}, \"scene\": {\"xaxis\": {\"backgroundcolor\": \"rgb(17,17,17)\", \"gridcolor\": \"#506784\", \"gridwidth\": 2, \"linecolor\": \"#506784\", \"showbackground\": true, \"ticks\": \"\", \"zerolinecolor\": \"#C8D4E3\"}, \"yaxis\": {\"backgroundcolor\": \"rgb(17,17,17)\", \"gridcolor\": \"#506784\", \"gridwidth\": 2, \"linecolor\": \"#506784\", \"showbackground\": true, \"ticks\": \"\", \"zerolinecolor\": \"#C8D4E3\"}, \"zaxis\": {\"backgroundcolor\": \"rgb(17,17,17)\", \"gridcolor\": \"#506784\", \"gridwidth\": 2, \"linecolor\": \"#506784\", \"showbackground\": true, \"ticks\": \"\", \"zerolinecolor\": \"#C8D4E3\"}}, \"shapedefaults\": {\"line\": {\"color\": \"#f2f5fa\"}}, \"sliderdefaults\": {\"bgcolor\": \"#C8D4E3\", \"bordercolor\": \"rgb(17,17,17)\", \"borderwidth\": 1, \"tickwidth\": 0}, \"ternary\": {\"aaxis\": {\"gridcolor\": \"#506784\", \"linecolor\": \"#506784\", \"ticks\": \"\"}, \"baxis\": {\"gridcolor\": \"#506784\", \"linecolor\": \"#506784\", \"ticks\": \"\"}, \"bgcolor\": \"rgb(17,17,17)\", \"caxis\": {\"gridcolor\": \"#506784\", \"linecolor\": \"#506784\", \"ticks\": \"\"}}, \"title\": {\"x\": 0.05}, \"updatemenudefaults\": {\"bgcolor\": \"#506784\", \"borderwidth\": 0}, \"xaxis\": {\"automargin\": true, \"gridcolor\": \"#283442\", \"linecolor\": \"#506784\", \"ticks\": \"\", \"title\": {\"standoff\": 15}, \"zerolinecolor\": \"#283442\", \"zerolinewidth\": 2}, \"yaxis\": {\"automargin\": true, \"gridcolor\": \"#283442\", \"linecolor\": \"#506784\", \"ticks\": \"\", \"title\": {\"standoff\": 15}, \"zerolinecolor\": \"#283442\", \"zerolinewidth\": 2}}}, \"title\": {\"text\": \"20 most affected Districts in India\"}, \"xaxis\": {\"anchor\": \"y\", \"domain\": [0.0, 1.0], \"title\": {\"text\": \"confirmed\"}}, \"yaxis\": {\"anchor\": \"x\", \"domain\": [0.0, 1.0], \"title\": {\"text\": \"district\"}}},\n",
              "                        {\"responsive\": true}\n",
              "                    ).then(function(){\n",
              "                            \n",
              "var gd = document.getElementById('989c001f-b24d-4c06-87bc-27291951988f');\n",
              "var x = new MutationObserver(function (mutations, observer) {{\n",
              "        var display = window.getComputedStyle(gd).display;\n",
              "        if (!display || display === 'none') {{\n",
              "            console.log([gd, 'removed!']);\n",
              "            Plotly.purge(gd);\n",
              "            observer.disconnect();\n",
              "        }}\n",
              "}});\n",
              "\n",
              "// Listen for the removal of the full notebook cells\n",
              "var notebookContainer = gd.closest('#notebook-container');\n",
              "if (notebookContainer) {{\n",
              "    x.observe(notebookContainer, {childList: true});\n",
              "}}\n",
              "\n",
              "// Listen for the clearing of the current output cell\n",
              "var outputEl = gd.closest('.output');\n",
              "if (outputEl) {{\n",
              "    x.observe(outputEl, {childList: true});\n",
              "}}\n",
              "\n",
              "                        })\n",
              "                };\n",
              "                \n",
              "            </script>\n",
              "        </div>\n",
              "</body>\n",
              "</html>"
            ]
          },
          "metadata": {
            "tags": []
          }
        }
      ]
    },
    {
      "cell_type": "code",
      "metadata": {
        "id": "tTrnWj6jvGHa",
        "colab_type": "code",
        "colab": {
          "base_uri": "https://localhost:8080/",
          "height": 867
        },
        "outputId": "c7da539d-793c-4f3d-8cd4-525f7466dc47"
      },
      "source": [
        "latest_grouped = df.groupby('district')['active'].sum().reset_index()\n",
        "\n",
        "fig = px.bar(latest_grouped.sort_values('active', ascending=False)[:20][::-1], \n",
        "             x='active', y='district',\n",
        "             title='Districts with most active cases in India(20)', text='active', height=850, orientation='h')\n",
        "fig.show()"
      ],
      "execution_count": 93,
      "outputs": [
        {
          "output_type": "display_data",
          "data": {
            "text/html": [
              "<html>\n",
              "<head><meta charset=\"utf-8\" /></head>\n",
              "<body>\n",
              "    <div>\n",
              "            <script src=\"https://cdnjs.cloudflare.com/ajax/libs/mathjax/2.7.5/MathJax.js?config=TeX-AMS-MML_SVG\"></script><script type=\"text/javascript\">if (window.MathJax) {MathJax.Hub.Config({SVG: {font: \"STIX-Web\"}});}</script>\n",
              "                <script type=\"text/javascript\">window.PlotlyConfig = {MathJaxConfig: 'local'};</script>\n",
              "        <script src=\"https://cdn.plot.ly/plotly-latest.min.js\"></script>    \n",
              "            <div id=\"3bd88687-0091-4987-a623-6fbe0e56bf8e\" class=\"plotly-graph-div\" style=\"height:850px; width:100%;\"></div>\n",
              "            <script type=\"text/javascript\">\n",
              "                \n",
              "                    window.PLOTLYENV=window.PLOTLYENV || {};\n",
              "                    \n",
              "                if (document.getElementById(\"3bd88687-0091-4987-a623-6fbe0e56bf8e\")) {\n",
              "                    Plotly.newPlot(\n",
              "                        '3bd88687-0091-4987-a623-6fbe0e56bf8e',\n",
              "                        [{\"alignmentgroup\": \"True\", \"hoverlabel\": {\"namelength\": 0}, \"hovertemplate\": \"active=%{text}<br>district=%{y}\", \"legendgroup\": \"\", \"marker\": {\"color\": \"#636efa\"}, \"name\": \"\", \"offsetgroup\": \"\", \"orientation\": \"h\", \"showlegend\": false, \"text\": [171.0, 171.0, 173.0, 184.0, 184.0, 187.0, 200.0, 252.0, 277.0, 288.0, 322.0, 373.0, 476.0, 517.0, 562.0, 595.0, 751.0, 1024.0, 2057.0, 4477.0], \"textposition\": \"auto\", \"type\": \"bar\", \"x\": [171, 171, 173, 184, 184, 187, 200, 252, 277, 288, 322, 373, 476, 517, 562, 595, 751, 1024, 2057, 4477], \"xaxis\": \"x\", \"y\": [\"Saharanpur\", \"Vadodara\", \"Krishna\", \"Kolkata\", \"Central Delhi\", \"Kanpur Nagar\", \"Guntur\", \"Kurnool\", \"Bhopal\", \"Jodhpur\", \"Agra\", \"Hyderabad\", \"Chennai\", \"Surat\", \"Jaipur\", \"Thane\", \"Pune\", \"Indore\", \"Ahmadabad\", \"Mumbai\"], \"yaxis\": \"y\"}],\n",
              "                        {\"barmode\": \"relative\", \"height\": 850, \"legend\": {\"tracegroupgap\": 0}, \"template\": {\"data\": {\"bar\": [{\"error_x\": {\"color\": \"#f2f5fa\"}, \"error_y\": {\"color\": \"#f2f5fa\"}, \"marker\": {\"line\": {\"color\": \"rgb(17,17,17)\", \"width\": 0.5}}, \"type\": \"bar\"}], \"barpolar\": [{\"marker\": {\"line\": {\"color\": \"rgb(17,17,17)\", \"width\": 0.5}}, \"type\": \"barpolar\"}], \"carpet\": [{\"aaxis\": {\"endlinecolor\": \"#A2B1C6\", \"gridcolor\": \"#506784\", \"linecolor\": \"#506784\", \"minorgridcolor\": \"#506784\", \"startlinecolor\": \"#A2B1C6\"}, \"baxis\": {\"endlinecolor\": \"#A2B1C6\", \"gridcolor\": \"#506784\", \"linecolor\": \"#506784\", \"minorgridcolor\": \"#506784\", \"startlinecolor\": \"#A2B1C6\"}, \"type\": \"carpet\"}], \"choropleth\": [{\"colorbar\": {\"outlinewidth\": 0, \"ticks\": \"\"}, \"type\": \"choropleth\"}], \"contour\": [{\"colorbar\": {\"outlinewidth\": 0, \"ticks\": \"\"}, \"colorscale\": [[0.0, \"#0d0887\"], [0.1111111111111111, \"#46039f\"], [0.2222222222222222, \"#7201a8\"], [0.3333333333333333, \"#9c179e\"], [0.4444444444444444, \"#bd3786\"], [0.5555555555555556, \"#d8576b\"], [0.6666666666666666, \"#ed7953\"], [0.7777777777777778, \"#fb9f3a\"], [0.8888888888888888, \"#fdca26\"], [1.0, \"#f0f921\"]], \"type\": \"contour\"}], \"contourcarpet\": [{\"colorbar\": {\"outlinewidth\": 0, \"ticks\": \"\"}, \"type\": \"contourcarpet\"}], \"heatmap\": [{\"colorbar\": {\"outlinewidth\": 0, \"ticks\": \"\"}, \"colorscale\": [[0.0, \"#0d0887\"], [0.1111111111111111, \"#46039f\"], [0.2222222222222222, \"#7201a8\"], [0.3333333333333333, \"#9c179e\"], [0.4444444444444444, \"#bd3786\"], [0.5555555555555556, \"#d8576b\"], [0.6666666666666666, \"#ed7953\"], [0.7777777777777778, \"#fb9f3a\"], [0.8888888888888888, \"#fdca26\"], [1.0, \"#f0f921\"]], \"type\": \"heatmap\"}], \"heatmapgl\": [{\"colorbar\": {\"outlinewidth\": 0, \"ticks\": \"\"}, \"colorscale\": [[0.0, \"#0d0887\"], [0.1111111111111111, \"#46039f\"], [0.2222222222222222, \"#7201a8\"], [0.3333333333333333, \"#9c179e\"], [0.4444444444444444, \"#bd3786\"], [0.5555555555555556, \"#d8576b\"], [0.6666666666666666, \"#ed7953\"], [0.7777777777777778, \"#fb9f3a\"], [0.8888888888888888, \"#fdca26\"], [1.0, \"#f0f921\"]], \"type\": \"heatmapgl\"}], \"histogram\": [{\"marker\": {\"colorbar\": {\"outlinewidth\": 0, \"ticks\": \"\"}}, \"type\": \"histogram\"}], \"histogram2d\": [{\"colorbar\": {\"outlinewidth\": 0, \"ticks\": \"\"}, \"colorscale\": [[0.0, \"#0d0887\"], [0.1111111111111111, \"#46039f\"], [0.2222222222222222, \"#7201a8\"], [0.3333333333333333, \"#9c179e\"], [0.4444444444444444, \"#bd3786\"], [0.5555555555555556, \"#d8576b\"], [0.6666666666666666, \"#ed7953\"], [0.7777777777777778, \"#fb9f3a\"], [0.8888888888888888, \"#fdca26\"], [1.0, \"#f0f921\"]], \"type\": \"histogram2d\"}], \"histogram2dcontour\": [{\"colorbar\": {\"outlinewidth\": 0, \"ticks\": \"\"}, \"colorscale\": [[0.0, \"#0d0887\"], [0.1111111111111111, \"#46039f\"], [0.2222222222222222, \"#7201a8\"], [0.3333333333333333, \"#9c179e\"], [0.4444444444444444, \"#bd3786\"], [0.5555555555555556, \"#d8576b\"], [0.6666666666666666, \"#ed7953\"], [0.7777777777777778, \"#fb9f3a\"], [0.8888888888888888, \"#fdca26\"], [1.0, \"#f0f921\"]], \"type\": \"histogram2dcontour\"}], \"mesh3d\": [{\"colorbar\": {\"outlinewidth\": 0, \"ticks\": \"\"}, \"type\": \"mesh3d\"}], \"parcoords\": [{\"line\": {\"colorbar\": {\"outlinewidth\": 0, \"ticks\": \"\"}}, \"type\": \"parcoords\"}], \"pie\": [{\"automargin\": true, \"type\": \"pie\"}], \"scatter\": [{\"marker\": {\"line\": {\"color\": \"#283442\"}}, \"type\": \"scatter\"}], \"scatter3d\": [{\"line\": {\"colorbar\": {\"outlinewidth\": 0, \"ticks\": \"\"}}, \"marker\": {\"colorbar\": {\"outlinewidth\": 0, \"ticks\": \"\"}}, \"type\": \"scatter3d\"}], \"scattercarpet\": [{\"marker\": {\"colorbar\": {\"outlinewidth\": 0, \"ticks\": \"\"}}, \"type\": \"scattercarpet\"}], \"scattergeo\": [{\"marker\": {\"colorbar\": {\"outlinewidth\": 0, \"ticks\": \"\"}}, \"type\": \"scattergeo\"}], \"scattergl\": [{\"marker\": {\"line\": {\"color\": \"#283442\"}}, \"type\": \"scattergl\"}], \"scattermapbox\": [{\"marker\": {\"colorbar\": {\"outlinewidth\": 0, \"ticks\": \"\"}}, \"type\": \"scattermapbox\"}], \"scatterpolar\": [{\"marker\": {\"colorbar\": {\"outlinewidth\": 0, \"ticks\": \"\"}}, \"type\": \"scatterpolar\"}], \"scatterpolargl\": [{\"marker\": {\"colorbar\": {\"outlinewidth\": 0, \"ticks\": \"\"}}, \"type\": \"scatterpolargl\"}], \"scatterternary\": [{\"marker\": {\"colorbar\": {\"outlinewidth\": 0, \"ticks\": \"\"}}, \"type\": \"scatterternary\"}], \"surface\": [{\"colorbar\": {\"outlinewidth\": 0, \"ticks\": \"\"}, \"colorscale\": [[0.0, \"#0d0887\"], [0.1111111111111111, \"#46039f\"], [0.2222222222222222, \"#7201a8\"], [0.3333333333333333, \"#9c179e\"], [0.4444444444444444, \"#bd3786\"], [0.5555555555555556, \"#d8576b\"], [0.6666666666666666, \"#ed7953\"], [0.7777777777777778, \"#fb9f3a\"], [0.8888888888888888, \"#fdca26\"], [1.0, \"#f0f921\"]], \"type\": \"surface\"}], \"table\": [{\"cells\": {\"fill\": {\"color\": \"#506784\"}, \"line\": {\"color\": \"rgb(17,17,17)\"}}, \"header\": {\"fill\": {\"color\": \"#2a3f5f\"}, \"line\": {\"color\": \"rgb(17,17,17)\"}}, \"type\": \"table\"}]}, \"layout\": {\"annotationdefaults\": {\"arrowcolor\": \"#f2f5fa\", \"arrowhead\": 0, \"arrowwidth\": 1}, \"coloraxis\": {\"colorbar\": {\"outlinewidth\": 0, \"ticks\": \"\"}}, \"colorscale\": {\"diverging\": [[0, \"#8e0152\"], [0.1, \"#c51b7d\"], [0.2, \"#de77ae\"], [0.3, \"#f1b6da\"], [0.4, \"#fde0ef\"], [0.5, \"#f7f7f7\"], [0.6, \"#e6f5d0\"], [0.7, \"#b8e186\"], [0.8, \"#7fbc41\"], [0.9, \"#4d9221\"], [1, \"#276419\"]], \"sequential\": [[0.0, \"#0d0887\"], [0.1111111111111111, \"#46039f\"], [0.2222222222222222, \"#7201a8\"], [0.3333333333333333, \"#9c179e\"], [0.4444444444444444, \"#bd3786\"], [0.5555555555555556, \"#d8576b\"], [0.6666666666666666, \"#ed7953\"], [0.7777777777777778, \"#fb9f3a\"], [0.8888888888888888, \"#fdca26\"], [1.0, \"#f0f921\"]], \"sequentialminus\": [[0.0, \"#0d0887\"], [0.1111111111111111, \"#46039f\"], [0.2222222222222222, \"#7201a8\"], [0.3333333333333333, \"#9c179e\"], [0.4444444444444444, \"#bd3786\"], [0.5555555555555556, \"#d8576b\"], [0.6666666666666666, \"#ed7953\"], [0.7777777777777778, \"#fb9f3a\"], [0.8888888888888888, \"#fdca26\"], [1.0, \"#f0f921\"]]}, \"colorway\": [\"#636efa\", \"#EF553B\", \"#00cc96\", \"#ab63fa\", \"#FFA15A\", \"#19d3f3\", \"#FF6692\", \"#B6E880\", \"#FF97FF\", \"#FECB52\"], \"font\": {\"color\": \"#f2f5fa\"}, \"geo\": {\"bgcolor\": \"rgb(17,17,17)\", \"lakecolor\": \"rgb(17,17,17)\", \"landcolor\": \"rgb(17,17,17)\", \"showlakes\": true, \"showland\": true, \"subunitcolor\": \"#506784\"}, \"hoverlabel\": {\"align\": \"left\"}, \"hovermode\": \"closest\", \"mapbox\": {\"style\": \"dark\"}, \"paper_bgcolor\": \"rgb(17,17,17)\", \"plot_bgcolor\": \"rgb(17,17,17)\", \"polar\": {\"angularaxis\": {\"gridcolor\": \"#506784\", \"linecolor\": \"#506784\", \"ticks\": \"\"}, \"bgcolor\": \"rgb(17,17,17)\", \"radialaxis\": {\"gridcolor\": \"#506784\", \"linecolor\": \"#506784\", \"ticks\": \"\"}}, \"scene\": {\"xaxis\": {\"backgroundcolor\": \"rgb(17,17,17)\", \"gridcolor\": \"#506784\", \"gridwidth\": 2, \"linecolor\": \"#506784\", \"showbackground\": true, \"ticks\": \"\", \"zerolinecolor\": \"#C8D4E3\"}, \"yaxis\": {\"backgroundcolor\": \"rgb(17,17,17)\", \"gridcolor\": \"#506784\", \"gridwidth\": 2, \"linecolor\": \"#506784\", \"showbackground\": true, \"ticks\": \"\", \"zerolinecolor\": \"#C8D4E3\"}, \"zaxis\": {\"backgroundcolor\": \"rgb(17,17,17)\", \"gridcolor\": \"#506784\", \"gridwidth\": 2, \"linecolor\": \"#506784\", \"showbackground\": true, \"ticks\": \"\", \"zerolinecolor\": \"#C8D4E3\"}}, \"shapedefaults\": {\"line\": {\"color\": \"#f2f5fa\"}}, \"sliderdefaults\": {\"bgcolor\": \"#C8D4E3\", \"bordercolor\": \"rgb(17,17,17)\", \"borderwidth\": 1, \"tickwidth\": 0}, \"ternary\": {\"aaxis\": {\"gridcolor\": \"#506784\", \"linecolor\": \"#506784\", \"ticks\": \"\"}, \"baxis\": {\"gridcolor\": \"#506784\", \"linecolor\": \"#506784\", \"ticks\": \"\"}, \"bgcolor\": \"rgb(17,17,17)\", \"caxis\": {\"gridcolor\": \"#506784\", \"linecolor\": \"#506784\", \"ticks\": \"\"}}, \"title\": {\"x\": 0.05}, \"updatemenudefaults\": {\"bgcolor\": \"#506784\", \"borderwidth\": 0}, \"xaxis\": {\"automargin\": true, \"gridcolor\": \"#283442\", \"linecolor\": \"#506784\", \"ticks\": \"\", \"title\": {\"standoff\": 15}, \"zerolinecolor\": \"#283442\", \"zerolinewidth\": 2}, \"yaxis\": {\"automargin\": true, \"gridcolor\": \"#283442\", \"linecolor\": \"#506784\", \"ticks\": \"\", \"title\": {\"standoff\": 15}, \"zerolinecolor\": \"#283442\", \"zerolinewidth\": 2}}}, \"title\": {\"text\": \"Districts with most active cases in India(20)\"}, \"xaxis\": {\"anchor\": \"y\", \"domain\": [0.0, 1.0], \"title\": {\"text\": \"active\"}}, \"yaxis\": {\"anchor\": \"x\", \"domain\": [0.0, 1.0], \"title\": {\"text\": \"district\"}}},\n",
              "                        {\"responsive\": true}\n",
              "                    ).then(function(){\n",
              "                            \n",
              "var gd = document.getElementById('3bd88687-0091-4987-a623-6fbe0e56bf8e');\n",
              "var x = new MutationObserver(function (mutations, observer) {{\n",
              "        var display = window.getComputedStyle(gd).display;\n",
              "        if (!display || display === 'none') {{\n",
              "            console.log([gd, 'removed!']);\n",
              "            Plotly.purge(gd);\n",
              "            observer.disconnect();\n",
              "        }}\n",
              "}});\n",
              "\n",
              "// Listen for the removal of the full notebook cells\n",
              "var notebookContainer = gd.closest('#notebook-container');\n",
              "if (notebookContainer) {{\n",
              "    x.observe(notebookContainer, {childList: true});\n",
              "}}\n",
              "\n",
              "// Listen for the clearing of the current output cell\n",
              "var outputEl = gd.closest('.output');\n",
              "if (outputEl) {{\n",
              "    x.observe(outputEl, {childList: true});\n",
              "}}\n",
              "\n",
              "                        })\n",
              "                };\n",
              "                \n",
              "            </script>\n",
              "        </div>\n",
              "</body>\n",
              "</html>"
            ]
          },
          "metadata": {
            "tags": []
          }
        }
      ]
    },
    {
      "cell_type": "code",
      "metadata": {
        "id": "ZVCOTAgKvb51",
        "colab_type": "code",
        "colab": {
          "base_uri": "https://localhost:8080/",
          "height": 867
        },
        "outputId": "b2d04004-521d-4b4e-e0ba-03f9bd997d99"
      },
      "source": [
        "latest_grouped = df.groupby('district')['deceased'].sum().reset_index()\n",
        "\n",
        "fig = px.bar(latest_grouped.sort_values('deceased', ascending=False)[:20][::-1], \n",
        "             x='deceased', y='district',\n",
        "             title='Districts with most deceased cases in India(20)', text='deceased', height=850, orientation='h')\n",
        "fig.show()"
      ],
      "execution_count": 94,
      "outputs": [
        {
          "output_type": "display_data",
          "data": {
            "text/html": [
              "<html>\n",
              "<head><meta charset=\"utf-8\" /></head>\n",
              "<body>\n",
              "    <div>\n",
              "            <script src=\"https://cdnjs.cloudflare.com/ajax/libs/mathjax/2.7.5/MathJax.js?config=TeX-AMS-MML_SVG\"></script><script type=\"text/javascript\">if (window.MathJax) {MathJax.Hub.Config({SVG: {font: \"STIX-Web\"}});}</script>\n",
              "                <script type=\"text/javascript\">window.PlotlyConfig = {MathJaxConfig: 'local'};</script>\n",
              "        <script src=\"https://cdn.plot.ly/plotly-latest.min.js\"></script>    \n",
              "            <div id=\"d398c933-3aeb-4da3-876c-0d116c786f1a\" class=\"plotly-graph-div\" style=\"height:850px; width:100%;\"></div>\n",
              "            <script type=\"text/javascript\">\n",
              "                \n",
              "                    window.PLOTLYENV=window.PLOTLYENV || {};\n",
              "                    \n",
              "                if (document.getElementById(\"d398c933-3aeb-4da3-876c-0d116c786f1a\")) {\n",
              "                    Plotly.newPlot(\n",
              "                        'd398c933-3aeb-4da3-876c-0d116c786f1a',\n",
              "                        [{\"alignmentgroup\": \"True\", \"hoverlabel\": {\"namelength\": 0}, \"hovertemplate\": \"deceased=%{text}<br>district=%{y}\", \"legendgroup\": \"\", \"marker\": {\"color\": \"#636efa\"}, \"name\": \"\", \"offsetgroup\": \"\", \"orientation\": \"h\", \"showlegend\": false, \"text\": [6.0, 6.0, 6.0, 7.0, 8.0, 8.0, 9.0, 10.0, 12.0, 12.0, 13.0, 14.0, 17.0, 18.0, 19.0, 27.0, 60.0, 80.0, 109.0, 219.0], \"textposition\": \"auto\", \"type\": \"bar\", \"x\": [6, 6, 6, 7, 8, 8, 9, 10, 12, 12, 13, 14, 17, 18, 19, 27, 60, 80, 109, 219], \"xaxis\": \"x\", \"y\": [\"Jodhpur\", \"Aurangabad\", \"Khargone\", \"Amravati\", \"Krishna\", \"Guntur\", \"Kurnool\", \"Agra\", \"Nashik\", \"Bhopal\", \"Vadodara\", \"Thane\", \"Ujjain\", \"Hyderabad\", \"Surat\", \"Jaipur\", \"Indore\", \"Pune\", \"Ahmadabad\", \"Mumbai\"], \"yaxis\": \"y\"}],\n",
              "                        {\"barmode\": \"relative\", \"height\": 850, \"legend\": {\"tracegroupgap\": 0}, \"template\": {\"data\": {\"bar\": [{\"error_x\": {\"color\": \"#f2f5fa\"}, \"error_y\": {\"color\": \"#f2f5fa\"}, \"marker\": {\"line\": {\"color\": \"rgb(17,17,17)\", \"width\": 0.5}}, \"type\": \"bar\"}], \"barpolar\": [{\"marker\": {\"line\": {\"color\": \"rgb(17,17,17)\", \"width\": 0.5}}, \"type\": \"barpolar\"}], \"carpet\": [{\"aaxis\": {\"endlinecolor\": \"#A2B1C6\", \"gridcolor\": \"#506784\", \"linecolor\": \"#506784\", \"minorgridcolor\": \"#506784\", \"startlinecolor\": \"#A2B1C6\"}, \"baxis\": {\"endlinecolor\": \"#A2B1C6\", \"gridcolor\": \"#506784\", \"linecolor\": \"#506784\", \"minorgridcolor\": \"#506784\", \"startlinecolor\": \"#A2B1C6\"}, \"type\": \"carpet\"}], \"choropleth\": [{\"colorbar\": {\"outlinewidth\": 0, \"ticks\": \"\"}, \"type\": \"choropleth\"}], \"contour\": [{\"colorbar\": {\"outlinewidth\": 0, \"ticks\": \"\"}, \"colorscale\": [[0.0, \"#0d0887\"], [0.1111111111111111, \"#46039f\"], [0.2222222222222222, \"#7201a8\"], [0.3333333333333333, \"#9c179e\"], [0.4444444444444444, \"#bd3786\"], [0.5555555555555556, \"#d8576b\"], [0.6666666666666666, \"#ed7953\"], [0.7777777777777778, \"#fb9f3a\"], [0.8888888888888888, \"#fdca26\"], [1.0, \"#f0f921\"]], \"type\": \"contour\"}], \"contourcarpet\": [{\"colorbar\": {\"outlinewidth\": 0, \"ticks\": \"\"}, \"type\": \"contourcarpet\"}], \"heatmap\": [{\"colorbar\": {\"outlinewidth\": 0, \"ticks\": \"\"}, \"colorscale\": [[0.0, \"#0d0887\"], [0.1111111111111111, \"#46039f\"], [0.2222222222222222, \"#7201a8\"], [0.3333333333333333, \"#9c179e\"], [0.4444444444444444, \"#bd3786\"], [0.5555555555555556, \"#d8576b\"], [0.6666666666666666, \"#ed7953\"], [0.7777777777777778, \"#fb9f3a\"], [0.8888888888888888, \"#fdca26\"], [1.0, \"#f0f921\"]], \"type\": \"heatmap\"}], \"heatmapgl\": [{\"colorbar\": {\"outlinewidth\": 0, \"ticks\": \"\"}, \"colorscale\": [[0.0, \"#0d0887\"], [0.1111111111111111, \"#46039f\"], [0.2222222222222222, \"#7201a8\"], [0.3333333333333333, \"#9c179e\"], [0.4444444444444444, \"#bd3786\"], [0.5555555555555556, \"#d8576b\"], [0.6666666666666666, \"#ed7953\"], [0.7777777777777778, \"#fb9f3a\"], [0.8888888888888888, \"#fdca26\"], [1.0, \"#f0f921\"]], \"type\": \"heatmapgl\"}], \"histogram\": [{\"marker\": {\"colorbar\": {\"outlinewidth\": 0, \"ticks\": \"\"}}, \"type\": \"histogram\"}], \"histogram2d\": [{\"colorbar\": {\"outlinewidth\": 0, \"ticks\": \"\"}, \"colorscale\": [[0.0, \"#0d0887\"], [0.1111111111111111, \"#46039f\"], [0.2222222222222222, \"#7201a8\"], [0.3333333333333333, \"#9c179e\"], [0.4444444444444444, \"#bd3786\"], [0.5555555555555556, \"#d8576b\"], [0.6666666666666666, \"#ed7953\"], [0.7777777777777778, \"#fb9f3a\"], [0.8888888888888888, \"#fdca26\"], [1.0, \"#f0f921\"]], \"type\": \"histogram2d\"}], \"histogram2dcontour\": [{\"colorbar\": {\"outlinewidth\": 0, \"ticks\": \"\"}, \"colorscale\": [[0.0, \"#0d0887\"], [0.1111111111111111, \"#46039f\"], [0.2222222222222222, \"#7201a8\"], [0.3333333333333333, \"#9c179e\"], [0.4444444444444444, \"#bd3786\"], [0.5555555555555556, \"#d8576b\"], [0.6666666666666666, \"#ed7953\"], [0.7777777777777778, \"#fb9f3a\"], [0.8888888888888888, \"#fdca26\"], [1.0, \"#f0f921\"]], \"type\": \"histogram2dcontour\"}], \"mesh3d\": [{\"colorbar\": {\"outlinewidth\": 0, \"ticks\": \"\"}, \"type\": \"mesh3d\"}], \"parcoords\": [{\"line\": {\"colorbar\": {\"outlinewidth\": 0, \"ticks\": \"\"}}, \"type\": \"parcoords\"}], \"pie\": [{\"automargin\": true, \"type\": \"pie\"}], \"scatter\": [{\"marker\": {\"line\": {\"color\": \"#283442\"}}, \"type\": \"scatter\"}], \"scatter3d\": [{\"line\": {\"colorbar\": {\"outlinewidth\": 0, \"ticks\": \"\"}}, \"marker\": {\"colorbar\": {\"outlinewidth\": 0, \"ticks\": \"\"}}, \"type\": \"scatter3d\"}], \"scattercarpet\": [{\"marker\": {\"colorbar\": {\"outlinewidth\": 0, \"ticks\": \"\"}}, \"type\": \"scattercarpet\"}], \"scattergeo\": [{\"marker\": {\"colorbar\": {\"outlinewidth\": 0, \"ticks\": \"\"}}, \"type\": \"scattergeo\"}], \"scattergl\": [{\"marker\": {\"line\": {\"color\": \"#283442\"}}, \"type\": \"scattergl\"}], \"scattermapbox\": [{\"marker\": {\"colorbar\": {\"outlinewidth\": 0, \"ticks\": \"\"}}, \"type\": \"scattermapbox\"}], \"scatterpolar\": [{\"marker\": {\"colorbar\": {\"outlinewidth\": 0, \"ticks\": \"\"}}, \"type\": \"scatterpolar\"}], \"scatterpolargl\": [{\"marker\": {\"colorbar\": {\"outlinewidth\": 0, \"ticks\": \"\"}}, \"type\": \"scatterpolargl\"}], \"scatterternary\": [{\"marker\": {\"colorbar\": {\"outlinewidth\": 0, \"ticks\": \"\"}}, \"type\": \"scatterternary\"}], \"surface\": [{\"colorbar\": {\"outlinewidth\": 0, \"ticks\": \"\"}, \"colorscale\": [[0.0, \"#0d0887\"], [0.1111111111111111, \"#46039f\"], [0.2222222222222222, \"#7201a8\"], [0.3333333333333333, \"#9c179e\"], [0.4444444444444444, \"#bd3786\"], [0.5555555555555556, \"#d8576b\"], [0.6666666666666666, \"#ed7953\"], [0.7777777777777778, \"#fb9f3a\"], [0.8888888888888888, \"#fdca26\"], [1.0, \"#f0f921\"]], \"type\": \"surface\"}], \"table\": [{\"cells\": {\"fill\": {\"color\": \"#506784\"}, \"line\": {\"color\": \"rgb(17,17,17)\"}}, \"header\": {\"fill\": {\"color\": \"#2a3f5f\"}, \"line\": {\"color\": \"rgb(17,17,17)\"}}, \"type\": \"table\"}]}, \"layout\": {\"annotationdefaults\": {\"arrowcolor\": \"#f2f5fa\", \"arrowhead\": 0, \"arrowwidth\": 1}, \"coloraxis\": {\"colorbar\": {\"outlinewidth\": 0, \"ticks\": \"\"}}, \"colorscale\": {\"diverging\": [[0, \"#8e0152\"], [0.1, \"#c51b7d\"], [0.2, \"#de77ae\"], [0.3, \"#f1b6da\"], [0.4, \"#fde0ef\"], [0.5, \"#f7f7f7\"], [0.6, \"#e6f5d0\"], [0.7, \"#b8e186\"], [0.8, \"#7fbc41\"], [0.9, \"#4d9221\"], [1, \"#276419\"]], \"sequential\": [[0.0, \"#0d0887\"], [0.1111111111111111, \"#46039f\"], [0.2222222222222222, \"#7201a8\"], [0.3333333333333333, \"#9c179e\"], [0.4444444444444444, \"#bd3786\"], [0.5555555555555556, \"#d8576b\"], [0.6666666666666666, \"#ed7953\"], [0.7777777777777778, \"#fb9f3a\"], [0.8888888888888888, \"#fdca26\"], [1.0, \"#f0f921\"]], \"sequentialminus\": [[0.0, \"#0d0887\"], [0.1111111111111111, \"#46039f\"], [0.2222222222222222, \"#7201a8\"], [0.3333333333333333, \"#9c179e\"], [0.4444444444444444, \"#bd3786\"], [0.5555555555555556, \"#d8576b\"], [0.6666666666666666, \"#ed7953\"], [0.7777777777777778, \"#fb9f3a\"], [0.8888888888888888, \"#fdca26\"], [1.0, \"#f0f921\"]]}, \"colorway\": [\"#636efa\", \"#EF553B\", \"#00cc96\", \"#ab63fa\", \"#FFA15A\", \"#19d3f3\", \"#FF6692\", \"#B6E880\", \"#FF97FF\", \"#FECB52\"], \"font\": {\"color\": \"#f2f5fa\"}, \"geo\": {\"bgcolor\": \"rgb(17,17,17)\", \"lakecolor\": \"rgb(17,17,17)\", \"landcolor\": \"rgb(17,17,17)\", \"showlakes\": true, \"showland\": true, \"subunitcolor\": \"#506784\"}, \"hoverlabel\": {\"align\": \"left\"}, \"hovermode\": \"closest\", \"mapbox\": {\"style\": \"dark\"}, \"paper_bgcolor\": \"rgb(17,17,17)\", \"plot_bgcolor\": \"rgb(17,17,17)\", \"polar\": {\"angularaxis\": {\"gridcolor\": \"#506784\", \"linecolor\": \"#506784\", \"ticks\": \"\"}, \"bgcolor\": \"rgb(17,17,17)\", \"radialaxis\": {\"gridcolor\": \"#506784\", \"linecolor\": \"#506784\", \"ticks\": \"\"}}, \"scene\": {\"xaxis\": {\"backgroundcolor\": \"rgb(17,17,17)\", \"gridcolor\": \"#506784\", \"gridwidth\": 2, \"linecolor\": \"#506784\", \"showbackground\": true, \"ticks\": \"\", \"zerolinecolor\": \"#C8D4E3\"}, \"yaxis\": {\"backgroundcolor\": \"rgb(17,17,17)\", \"gridcolor\": \"#506784\", \"gridwidth\": 2, \"linecolor\": \"#506784\", \"showbackground\": true, \"ticks\": \"\", \"zerolinecolor\": \"#C8D4E3\"}, \"zaxis\": {\"backgroundcolor\": \"rgb(17,17,17)\", \"gridcolor\": \"#506784\", \"gridwidth\": 2, \"linecolor\": \"#506784\", \"showbackground\": true, \"ticks\": \"\", \"zerolinecolor\": \"#C8D4E3\"}}, \"shapedefaults\": {\"line\": {\"color\": \"#f2f5fa\"}}, \"sliderdefaults\": {\"bgcolor\": \"#C8D4E3\", \"bordercolor\": \"rgb(17,17,17)\", \"borderwidth\": 1, \"tickwidth\": 0}, \"ternary\": {\"aaxis\": {\"gridcolor\": \"#506784\", \"linecolor\": \"#506784\", \"ticks\": \"\"}, \"baxis\": {\"gridcolor\": \"#506784\", \"linecolor\": \"#506784\", \"ticks\": \"\"}, \"bgcolor\": \"rgb(17,17,17)\", \"caxis\": {\"gridcolor\": \"#506784\", \"linecolor\": \"#506784\", \"ticks\": \"\"}}, \"title\": {\"x\": 0.05}, \"updatemenudefaults\": {\"bgcolor\": \"#506784\", \"borderwidth\": 0}, \"xaxis\": {\"automargin\": true, \"gridcolor\": \"#283442\", \"linecolor\": \"#506784\", \"ticks\": \"\", \"title\": {\"standoff\": 15}, \"zerolinecolor\": \"#283442\", \"zerolinewidth\": 2}, \"yaxis\": {\"automargin\": true, \"gridcolor\": \"#283442\", \"linecolor\": \"#506784\", \"ticks\": \"\", \"title\": {\"standoff\": 15}, \"zerolinecolor\": \"#283442\", \"zerolinewidth\": 2}}}, \"title\": {\"text\": \"Districts with most deceased cases in India(20)\"}, \"xaxis\": {\"anchor\": \"y\", \"domain\": [0.0, 1.0], \"title\": {\"text\": \"deceased\"}}, \"yaxis\": {\"anchor\": \"x\", \"domain\": [0.0, 1.0], \"title\": {\"text\": \"district\"}}},\n",
              "                        {\"responsive\": true}\n",
              "                    ).then(function(){\n",
              "                            \n",
              "var gd = document.getElementById('d398c933-3aeb-4da3-876c-0d116c786f1a');\n",
              "var x = new MutationObserver(function (mutations, observer) {{\n",
              "        var display = window.getComputedStyle(gd).display;\n",
              "        if (!display || display === 'none') {{\n",
              "            console.log([gd, 'removed!']);\n",
              "            Plotly.purge(gd);\n",
              "            observer.disconnect();\n",
              "        }}\n",
              "}});\n",
              "\n",
              "// Listen for the removal of the full notebook cells\n",
              "var notebookContainer = gd.closest('#notebook-container');\n",
              "if (notebookContainer) {{\n",
              "    x.observe(notebookContainer, {childList: true});\n",
              "}}\n",
              "\n",
              "// Listen for the clearing of the current output cell\n",
              "var outputEl = gd.closest('.output');\n",
              "if (outputEl) {{\n",
              "    x.observe(outputEl, {childList: true});\n",
              "}}\n",
              "\n",
              "                        })\n",
              "                };\n",
              "                \n",
              "            </script>\n",
              "        </div>\n",
              "</body>\n",
              "</html>"
            ]
          },
          "metadata": {
            "tags": []
          }
        }
      ]
    },
    {
      "cell_type": "code",
      "metadata": {
        "id": "gvl_FHWDvkqM",
        "colab_type": "code",
        "colab": {
          "base_uri": "https://localhost:8080/",
          "height": 867
        },
        "outputId": "71abdf35-2ace-46bc-a9aa-e256bf4e7791"
      },
      "source": [
        "latest_grouped = df.groupby('district')['recovered'].sum().reset_index()\n",
        "\n",
        "fig = px.bar(latest_grouped.sort_values('recovered', ascending=False)[:20][::-1], \n",
        "             x='recovered', y='district',\n",
        "             title='Districts with most recovered cases in India(20)', text='recovered', height=850, orientation='h')\n",
        "fig.show()"
      ],
      "execution_count": 95,
      "outputs": [
        {
          "output_type": "display_data",
          "data": {
            "text/html": [
              "<html>\n",
              "<head><meta charset=\"utf-8\" /></head>\n",
              "<body>\n",
              "    <div>\n",
              "            <script src=\"https://cdnjs.cloudflare.com/ajax/libs/mathjax/2.7.5/MathJax.js?config=TeX-AMS-MML_SVG\"></script><script type=\"text/javascript\">if (window.MathJax) {MathJax.Hub.Config({SVG: {font: \"STIX-Web\"}});}</script>\n",
              "                <script type=\"text/javascript\">window.PlotlyConfig = {MathJaxConfig: 'local'};</script>\n",
              "        <script src=\"https://cdn.plot.ly/plotly-latest.min.js\"></script>    \n",
              "            <div id=\"92ad5393-767d-496a-b71b-12708d70328b\" class=\"plotly-graph-div\" style=\"height:850px; width:100%;\"></div>\n",
              "            <script type=\"text/javascript\">\n",
              "                \n",
              "                    window.PLOTLYENV=window.PLOTLYENV || {};\n",
              "                    \n",
              "                if (document.getElementById(\"92ad5393-767d-496a-b71b-12708d70328b\")) {\n",
              "                    Plotly.newPlot(\n",
              "                        '92ad5393-767d-496a-b71b-12708d70328b',\n",
              "                        [{\"alignmentgroup\": \"True\", \"hoverlabel\": {\"namelength\": 0}, \"hovertemplate\": \"recovered=%{text}<br>district=%{y}\", \"legendgroup\": \"\", \"marker\": {\"color\": \"#636efa\"}, \"name\": \"\", \"offsetgroup\": \"\", \"orientation\": \"h\", \"showlegend\": false, \"text\": [46.0, 50.0, 52.0, 56.0, 57.0, 61.0, 71.0, 75.0, 81.0, 98.0, 99.0, 123.0, 129.0, 139.0, 151.0, 160.0, 212.0, 221.0, 244.0, 711.0], \"textposition\": \"auto\", \"type\": \"bar\", \"x\": [46, 50, 52, 56, 57, 61, 71, 75, 81, 98, 99, 123, 129, 139, 151, 160, 212, 221, 244, 711], \"xaxis\": \"x\", \"y\": [\"Meerut\", \"Srinagar\", \"Agra\", \"Vadodara\", \"Bengaluru\", \"Kannur\", \"Gautam Buddha Nagar\", \"Coimbatore\", \"Jodhpur\", \"Kota\", \"Chennai\", \"Indore\", \"Thane\", \"Bhopal\", \"Hyderabad\", \"Kasaragod\", \"Ahmadabad\", \"Pune\", \"Jaipur\", \"Mumbai\"], \"yaxis\": \"y\"}],\n",
              "                        {\"barmode\": \"relative\", \"height\": 850, \"legend\": {\"tracegroupgap\": 0}, \"template\": {\"data\": {\"bar\": [{\"error_x\": {\"color\": \"#f2f5fa\"}, \"error_y\": {\"color\": \"#f2f5fa\"}, \"marker\": {\"line\": {\"color\": \"rgb(17,17,17)\", \"width\": 0.5}}, \"type\": \"bar\"}], \"barpolar\": [{\"marker\": {\"line\": {\"color\": \"rgb(17,17,17)\", \"width\": 0.5}}, \"type\": \"barpolar\"}], \"carpet\": [{\"aaxis\": {\"endlinecolor\": \"#A2B1C6\", \"gridcolor\": \"#506784\", \"linecolor\": \"#506784\", \"minorgridcolor\": \"#506784\", \"startlinecolor\": \"#A2B1C6\"}, \"baxis\": {\"endlinecolor\": \"#A2B1C6\", \"gridcolor\": \"#506784\", \"linecolor\": \"#506784\", \"minorgridcolor\": \"#506784\", \"startlinecolor\": \"#A2B1C6\"}, \"type\": \"carpet\"}], \"choropleth\": [{\"colorbar\": {\"outlinewidth\": 0, \"ticks\": \"\"}, \"type\": \"choropleth\"}], \"contour\": [{\"colorbar\": {\"outlinewidth\": 0, \"ticks\": \"\"}, \"colorscale\": [[0.0, \"#0d0887\"], [0.1111111111111111, \"#46039f\"], [0.2222222222222222, \"#7201a8\"], [0.3333333333333333, \"#9c179e\"], [0.4444444444444444, \"#bd3786\"], [0.5555555555555556, \"#d8576b\"], [0.6666666666666666, \"#ed7953\"], [0.7777777777777778, \"#fb9f3a\"], [0.8888888888888888, \"#fdca26\"], [1.0, \"#f0f921\"]], \"type\": \"contour\"}], \"contourcarpet\": [{\"colorbar\": {\"outlinewidth\": 0, \"ticks\": \"\"}, \"type\": \"contourcarpet\"}], \"heatmap\": [{\"colorbar\": {\"outlinewidth\": 0, \"ticks\": \"\"}, \"colorscale\": [[0.0, \"#0d0887\"], [0.1111111111111111, \"#46039f\"], [0.2222222222222222, \"#7201a8\"], [0.3333333333333333, \"#9c179e\"], [0.4444444444444444, \"#bd3786\"], [0.5555555555555556, \"#d8576b\"], [0.6666666666666666, \"#ed7953\"], [0.7777777777777778, \"#fb9f3a\"], [0.8888888888888888, \"#fdca26\"], [1.0, \"#f0f921\"]], \"type\": \"heatmap\"}], \"heatmapgl\": [{\"colorbar\": {\"outlinewidth\": 0, \"ticks\": \"\"}, \"colorscale\": [[0.0, \"#0d0887\"], [0.1111111111111111, \"#46039f\"], [0.2222222222222222, \"#7201a8\"], [0.3333333333333333, \"#9c179e\"], [0.4444444444444444, \"#bd3786\"], [0.5555555555555556, \"#d8576b\"], [0.6666666666666666, \"#ed7953\"], [0.7777777777777778, \"#fb9f3a\"], [0.8888888888888888, \"#fdca26\"], [1.0, \"#f0f921\"]], \"type\": \"heatmapgl\"}], \"histogram\": [{\"marker\": {\"colorbar\": {\"outlinewidth\": 0, \"ticks\": \"\"}}, \"type\": \"histogram\"}], \"histogram2d\": [{\"colorbar\": {\"outlinewidth\": 0, \"ticks\": \"\"}, \"colorscale\": [[0.0, \"#0d0887\"], [0.1111111111111111, \"#46039f\"], [0.2222222222222222, \"#7201a8\"], [0.3333333333333333, \"#9c179e\"], [0.4444444444444444, \"#bd3786\"], [0.5555555555555556, \"#d8576b\"], [0.6666666666666666, \"#ed7953\"], [0.7777777777777778, \"#fb9f3a\"], [0.8888888888888888, \"#fdca26\"], [1.0, \"#f0f921\"]], \"type\": \"histogram2d\"}], \"histogram2dcontour\": [{\"colorbar\": {\"outlinewidth\": 0, \"ticks\": \"\"}, \"colorscale\": [[0.0, \"#0d0887\"], [0.1111111111111111, \"#46039f\"], [0.2222222222222222, \"#7201a8\"], [0.3333333333333333, \"#9c179e\"], [0.4444444444444444, \"#bd3786\"], [0.5555555555555556, \"#d8576b\"], [0.6666666666666666, \"#ed7953\"], [0.7777777777777778, \"#fb9f3a\"], [0.8888888888888888, \"#fdca26\"], [1.0, \"#f0f921\"]], \"type\": \"histogram2dcontour\"}], \"mesh3d\": [{\"colorbar\": {\"outlinewidth\": 0, \"ticks\": \"\"}, \"type\": \"mesh3d\"}], \"parcoords\": [{\"line\": {\"colorbar\": {\"outlinewidth\": 0, \"ticks\": \"\"}}, \"type\": \"parcoords\"}], \"pie\": [{\"automargin\": true, \"type\": \"pie\"}], \"scatter\": [{\"marker\": {\"line\": {\"color\": \"#283442\"}}, \"type\": \"scatter\"}], \"scatter3d\": [{\"line\": {\"colorbar\": {\"outlinewidth\": 0, \"ticks\": \"\"}}, \"marker\": {\"colorbar\": {\"outlinewidth\": 0, \"ticks\": \"\"}}, \"type\": \"scatter3d\"}], \"scattercarpet\": [{\"marker\": {\"colorbar\": {\"outlinewidth\": 0, \"ticks\": \"\"}}, \"type\": \"scattercarpet\"}], \"scattergeo\": [{\"marker\": {\"colorbar\": {\"outlinewidth\": 0, \"ticks\": \"\"}}, \"type\": \"scattergeo\"}], \"scattergl\": [{\"marker\": {\"line\": {\"color\": \"#283442\"}}, \"type\": \"scattergl\"}], \"scattermapbox\": [{\"marker\": {\"colorbar\": {\"outlinewidth\": 0, \"ticks\": \"\"}}, \"type\": \"scattermapbox\"}], \"scatterpolar\": [{\"marker\": {\"colorbar\": {\"outlinewidth\": 0, \"ticks\": \"\"}}, \"type\": \"scatterpolar\"}], \"scatterpolargl\": [{\"marker\": {\"colorbar\": {\"outlinewidth\": 0, \"ticks\": \"\"}}, \"type\": \"scatterpolargl\"}], \"scatterternary\": [{\"marker\": {\"colorbar\": {\"outlinewidth\": 0, \"ticks\": \"\"}}, \"type\": \"scatterternary\"}], \"surface\": [{\"colorbar\": {\"outlinewidth\": 0, \"ticks\": \"\"}, \"colorscale\": [[0.0, \"#0d0887\"], [0.1111111111111111, \"#46039f\"], [0.2222222222222222, \"#7201a8\"], [0.3333333333333333, \"#9c179e\"], [0.4444444444444444, \"#bd3786\"], [0.5555555555555556, \"#d8576b\"], [0.6666666666666666, \"#ed7953\"], [0.7777777777777778, \"#fb9f3a\"], [0.8888888888888888, \"#fdca26\"], [1.0, \"#f0f921\"]], \"type\": \"surface\"}], \"table\": [{\"cells\": {\"fill\": {\"color\": \"#506784\"}, \"line\": {\"color\": \"rgb(17,17,17)\"}}, \"header\": {\"fill\": {\"color\": \"#2a3f5f\"}, \"line\": {\"color\": \"rgb(17,17,17)\"}}, \"type\": \"table\"}]}, \"layout\": {\"annotationdefaults\": {\"arrowcolor\": \"#f2f5fa\", \"arrowhead\": 0, \"arrowwidth\": 1}, \"coloraxis\": {\"colorbar\": {\"outlinewidth\": 0, \"ticks\": \"\"}}, \"colorscale\": {\"diverging\": [[0, \"#8e0152\"], [0.1, \"#c51b7d\"], [0.2, \"#de77ae\"], [0.3, \"#f1b6da\"], [0.4, \"#fde0ef\"], [0.5, \"#f7f7f7\"], [0.6, \"#e6f5d0\"], [0.7, \"#b8e186\"], [0.8, \"#7fbc41\"], [0.9, \"#4d9221\"], [1, \"#276419\"]], \"sequential\": [[0.0, \"#0d0887\"], [0.1111111111111111, \"#46039f\"], [0.2222222222222222, \"#7201a8\"], [0.3333333333333333, \"#9c179e\"], [0.4444444444444444, \"#bd3786\"], [0.5555555555555556, \"#d8576b\"], [0.6666666666666666, \"#ed7953\"], [0.7777777777777778, \"#fb9f3a\"], [0.8888888888888888, \"#fdca26\"], [1.0, \"#f0f921\"]], \"sequentialminus\": [[0.0, \"#0d0887\"], [0.1111111111111111, \"#46039f\"], [0.2222222222222222, \"#7201a8\"], [0.3333333333333333, \"#9c179e\"], [0.4444444444444444, \"#bd3786\"], [0.5555555555555556, \"#d8576b\"], [0.6666666666666666, \"#ed7953\"], [0.7777777777777778, \"#fb9f3a\"], [0.8888888888888888, \"#fdca26\"], [1.0, \"#f0f921\"]]}, \"colorway\": [\"#636efa\", \"#EF553B\", \"#00cc96\", \"#ab63fa\", \"#FFA15A\", \"#19d3f3\", \"#FF6692\", \"#B6E880\", \"#FF97FF\", \"#FECB52\"], \"font\": {\"color\": \"#f2f5fa\"}, \"geo\": {\"bgcolor\": \"rgb(17,17,17)\", \"lakecolor\": \"rgb(17,17,17)\", \"landcolor\": \"rgb(17,17,17)\", \"showlakes\": true, \"showland\": true, \"subunitcolor\": \"#506784\"}, \"hoverlabel\": {\"align\": \"left\"}, \"hovermode\": \"closest\", \"mapbox\": {\"style\": \"dark\"}, \"paper_bgcolor\": \"rgb(17,17,17)\", \"plot_bgcolor\": \"rgb(17,17,17)\", \"polar\": {\"angularaxis\": {\"gridcolor\": \"#506784\", \"linecolor\": \"#506784\", \"ticks\": \"\"}, \"bgcolor\": \"rgb(17,17,17)\", \"radialaxis\": {\"gridcolor\": \"#506784\", \"linecolor\": \"#506784\", \"ticks\": \"\"}}, \"scene\": {\"xaxis\": {\"backgroundcolor\": \"rgb(17,17,17)\", \"gridcolor\": \"#506784\", \"gridwidth\": 2, \"linecolor\": \"#506784\", \"showbackground\": true, \"ticks\": \"\", \"zerolinecolor\": \"#C8D4E3\"}, \"yaxis\": {\"backgroundcolor\": \"rgb(17,17,17)\", \"gridcolor\": \"#506784\", \"gridwidth\": 2, \"linecolor\": \"#506784\", \"showbackground\": true, \"ticks\": \"\", \"zerolinecolor\": \"#C8D4E3\"}, \"zaxis\": {\"backgroundcolor\": \"rgb(17,17,17)\", \"gridcolor\": \"#506784\", \"gridwidth\": 2, \"linecolor\": \"#506784\", \"showbackground\": true, \"ticks\": \"\", \"zerolinecolor\": \"#C8D4E3\"}}, \"shapedefaults\": {\"line\": {\"color\": \"#f2f5fa\"}}, \"sliderdefaults\": {\"bgcolor\": \"#C8D4E3\", \"bordercolor\": \"rgb(17,17,17)\", \"borderwidth\": 1, \"tickwidth\": 0}, \"ternary\": {\"aaxis\": {\"gridcolor\": \"#506784\", \"linecolor\": \"#506784\", \"ticks\": \"\"}, \"baxis\": {\"gridcolor\": \"#506784\", \"linecolor\": \"#506784\", \"ticks\": \"\"}, \"bgcolor\": \"rgb(17,17,17)\", \"caxis\": {\"gridcolor\": \"#506784\", \"linecolor\": \"#506784\", \"ticks\": \"\"}}, \"title\": {\"x\": 0.05}, \"updatemenudefaults\": {\"bgcolor\": \"#506784\", \"borderwidth\": 0}, \"xaxis\": {\"automargin\": true, \"gridcolor\": \"#283442\", \"linecolor\": \"#506784\", \"ticks\": \"\", \"title\": {\"standoff\": 15}, \"zerolinecolor\": \"#283442\", \"zerolinewidth\": 2}, \"yaxis\": {\"automargin\": true, \"gridcolor\": \"#283442\", \"linecolor\": \"#506784\", \"ticks\": \"\", \"title\": {\"standoff\": 15}, \"zerolinecolor\": \"#283442\", \"zerolinewidth\": 2}}}, \"title\": {\"text\": \"Districts with most recovered cases in India(20)\"}, \"xaxis\": {\"anchor\": \"y\", \"domain\": [0.0, 1.0], \"title\": {\"text\": \"recovered\"}}, \"yaxis\": {\"anchor\": \"x\", \"domain\": [0.0, 1.0], \"title\": {\"text\": \"district\"}}},\n",
              "                        {\"responsive\": true}\n",
              "                    ).then(function(){\n",
              "                            \n",
              "var gd = document.getElementById('92ad5393-767d-496a-b71b-12708d70328b');\n",
              "var x = new MutationObserver(function (mutations, observer) {{\n",
              "        var display = window.getComputedStyle(gd).display;\n",
              "        if (!display || display === 'none') {{\n",
              "            console.log([gd, 'removed!']);\n",
              "            Plotly.purge(gd);\n",
              "            observer.disconnect();\n",
              "        }}\n",
              "}});\n",
              "\n",
              "// Listen for the removal of the full notebook cells\n",
              "var notebookContainer = gd.closest('#notebook-container');\n",
              "if (notebookContainer) {{\n",
              "    x.observe(notebookContainer, {childList: true});\n",
              "}}\n",
              "\n",
              "// Listen for the clearing of the current output cell\n",
              "var outputEl = gd.closest('.output');\n",
              "if (outputEl) {{\n",
              "    x.observe(outputEl, {childList: true});\n",
              "}}\n",
              "\n",
              "                        })\n",
              "                };\n",
              "                \n",
              "            </script>\n",
              "        </div>\n",
              "</body>\n",
              "</html>"
            ]
          },
          "metadata": {
            "tags": []
          }
        }
      ]
    },
    {
      "cell_type": "code",
      "metadata": {
        "id": "8oEBH-YovpJN",
        "colab_type": "code",
        "colab": {}
      },
      "source": [
        ""
      ],
      "execution_count": 0,
      "outputs": []
    }
  ]
}